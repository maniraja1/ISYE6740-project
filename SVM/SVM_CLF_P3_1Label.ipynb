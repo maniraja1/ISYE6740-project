{
 "cells": [
  {
   "cell_type": "code",
   "execution_count": 8,
   "id": "88da968a",
   "metadata": {},
   "outputs": [],
   "source": [
    "from PIL import Image\n",
    "import glob\n",
    "import numpy as np\n",
    "from sklearn.model_selection import train_test_split\n",
    "import pandas as pd\n",
    "from sklearn.svm import SVC\n",
    "from sklearn import metrics\n",
    "from sklearn.linear_model import LogisticRegression\n",
    "from sklearn.model_selection import GridSearchCV"
   ]
  },
  {
   "cell_type": "code",
   "execution_count": 2,
   "id": "9fc11ea7",
   "metadata": {},
   "outputs": [],
   "source": [
    "labels = pd.read_csv(\"Xray_TeethLabels_Simple.csv\",index_col=0)\n",
    "Ylabels = labels[5:]\n",
    "metaY = labels[:3]\n",
    "X = pd.DataFrame()\n",
    "Y = []\n",
    "for picFilename in glob.glob(\"Processing3/processed/*\"):\n",
    "    #print(picFilename)\n",
    "    patNumber = picFilename.split('/')[2].split('_')[0]\n",
    "    #toothNumber = picFilename.split('/')[2].split('_')[1].split('.')[0]\n",
    "    toothNumber1 = picFilename.split('/')[2].split('_')[1]\n",
    "    toothNumber2 = picFilename.split('/')[2].split('_')[2].split('.')[0]\n",
    "    im = Image.open(picFilename)\n",
    "    #X[patNumber + '_' + toothNumber] = np.array(im).flatten()\n",
    "    #Y.append(Ylabels.loc[toothNumber,patNumber])\n",
    "    \n",
    "    X[patNumber + '_' + toothNumber1 + '_' + toothNumber2] = np.array(im).flatten()\n",
    "    if Ylabels.loc[toothNumber1,patNumber] == 'Yes' or Ylabels.loc[toothNumber2,patNumber] == 'Yes':\n",
    "        Y.append(1)\n",
    "    else:\n",
    "        Y.append(0)\n",
    "\n",
    "X_train, X_test, y_train, y_test = train_test_split(X.T.to_numpy(), np.array(Y), test_size=0.20)"
   ]
  },
  {
   "cell_type": "code",
   "execution_count": 17,
   "id": "ef98ed15",
   "metadata": {},
   "outputs": [
    {
     "name": "stdout",
     "output_type": "stream",
     "text": [
      "135\n",
      "34\n",
      "135\n",
      "34\n",
      "[0 1 1 1 0 1 0 1 0 0 1 0 0 1 0 1 1 0 0 1 0 1 1 1 0 0 0 0 0 0 0 1 0 0 1 0 0\n",
      " 0 1 1 0 1 1 1 1 0 1 1 1 1 1 0 1 1 0 1 0 1 0 1 1 0 1 1 1 1 0 1 0 0 1 0 1 0\n",
      " 1 0 0 1 1 1 1 1 0 1 1 1 1 1 0 1 0 0 1 0 1 0 1 1 1 1 0 0 0 1 1 1 1 1 1 1 1\n",
      " 1 1 1 1 1 1 1 0 1 0 1 1 1 1 0 1 1 1 0 0 1 0 1 1]\n"
     ]
    }
   ],
   "source": [
    "print(len(X_train))\n",
    "print(len(X_test))\n",
    "print(len(y_train))\n",
    "print(len(y_test))\n",
    "print(y_train)"
   ]
  },
  {
   "cell_type": "code",
   "execution_count": 18,
   "id": "3852e5e5",
   "metadata": {},
   "outputs": [
    {
     "name": "stdout",
     "output_type": "stream",
     "text": [
      "The best value for C is: {'C': 10}\n"
     ]
    }
   ],
   "source": [
    "np.random.seed(6)\n",
    "def svc_param_selection(X, y, nfolds):\n",
    "    C = [0.1, 1, 10, 100, 1000] #try different values for C\n",
    "    param_grid = {'C': C}\n",
    "    grid_search = GridSearchCV(SVC(kernel='rbf'), param_grid, cv=nfolds)\n",
    "    grid_search.fit(X, y)\n",
    "    grid_search.best_params_\n",
    "    return grid_search.best_params_\n",
    "best_c = svc_param_selection(X.T.to_numpy(), np.array(Y), 2)\n",
    "print (\"The best value for C is:\",best_c['C'])"
   ]
  },
  {
   "cell_type": "code",
   "execution_count": 14,
   "id": "17e4b975",
   "metadata": {},
   "outputs": [
    {
     "name": "stdout",
     "output_type": "stream",
     "text": [
      "SVC(C=10)\n",
      "              precision    recall  f1-score   support\n",
      "\n",
      "           0       0.38      0.21      0.27        14\n",
      "           1       0.58      0.75      0.65        20\n",
      "\n",
      "    accuracy                           0.53        34\n",
      "   macro avg       0.48      0.48      0.46        34\n",
      "weighted avg       0.49      0.53      0.50        34\n",
      "\n",
      "[[ 3 11]\n",
      " [ 5 15]]\n"
     ]
    }
   ],
   "source": [
    "model = SVC(C=best_c['C'], kernel='rbf')\n",
    "model.fit(X_train, y_train)\n",
    "print(model)\n",
    "# make predictions\n",
    "expected = y_test\n",
    "predicted = model.predict(X_test)\n",
    "# summarize the fit of the model\n",
    "print(metrics.classification_report(expected, predicted))\n",
    "print(metrics.confusion_matrix(expected, predicted))"
   ]
  },
  {
   "cell_type": "code",
   "execution_count": 15,
   "id": "3b4f9243",
   "metadata": {},
   "outputs": [
    {
     "name": "stdout",
     "output_type": "stream",
     "text": [
      "The best value for C is: {'C': 0.1}\n"
     ]
    }
   ],
   "source": [
    "np.random.seed(6)\n",
    "def svc_param_selection(X, y, nfolds):\n",
    "    C = [0.1, 1, 10, 100, 1000] #try different values for C\n",
    "    param_grid = {'C': C}\n",
    "    grid_search = GridSearchCV(SVC(kernel='linear'), param_grid, cv=nfolds)\n",
    "    grid_search.fit(X, y)\n",
    "    grid_search.best_params_\n",
    "    return grid_search.best_params_\n",
    "best_c = svc_param_selection(X.T.to_numpy(), np.array(Y), 2)\n",
    "print (\"The best value for C is:\",best_c['C'])"
   ]
  },
  {
   "cell_type": "code",
   "execution_count": 16,
   "id": "ace56482",
   "metadata": {},
   "outputs": [
    {
     "name": "stdout",
     "output_type": "stream",
     "text": [
      "SVC(C=0.1, kernel='linear')\n",
      "              precision    recall  f1-score   support\n",
      "\n",
      "           0       0.50      0.21      0.30        14\n",
      "           1       0.61      0.85      0.71        20\n",
      "\n",
      "    accuracy                           0.59        34\n",
      "   macro avg       0.55      0.53      0.50        34\n",
      "weighted avg       0.56      0.59      0.54        34\n",
      "\n",
      "[[ 3 11]\n",
      " [ 3 17]]\n"
     ]
    }
   ],
   "source": [
    "model = SVC(C=best_c['C'], kernel='linear')\n",
    "model.fit(X_train, y_train)\n",
    "print(model)\n",
    "# make predictions\n",
    "expected = y_test\n",
    "predicted = model.predict(X_test)\n",
    "# summarize the fit of the model\n",
    "print(metrics.classification_report(expected, predicted))\n",
    "print(metrics.confusion_matrix(expected, predicted))"
   ]
  },
  {
   "cell_type": "code",
   "execution_count": null,
   "id": "752b0eb4",
   "metadata": {},
   "outputs": [],
   "source": []
  }
 ],
 "metadata": {
  "kernelspec": {
   "display_name": "Python 3",
   "language": "python",
   "name": "python3"
  },
  "language_info": {
   "codemirror_mode": {
    "name": "ipython",
    "version": 3
   },
   "file_extension": ".py",
   "mimetype": "text/x-python",
   "name": "python",
   "nbconvert_exporter": "python",
   "pygments_lexer": "ipython3",
   "version": "3.6.13"
  }
 },
 "nbformat": 4,
 "nbformat_minor": 5
}
