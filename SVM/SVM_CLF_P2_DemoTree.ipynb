{
 "cells": [
  {
   "cell_type": "code",
   "execution_count": 25,
   "id": "9e3f84a6",
   "metadata": {},
   "outputs": [],
   "source": [
    "from PIL import Image\n",
    "import glob\n",
    "import numpy as np\n",
    "from sklearn.model_selection import train_test_split\n",
    "import pandas as pd\n",
    "from sklearn.svm import SVC\n",
    "from sklearn import metrics\n",
    "from sklearn.linear_model import LogisticRegression\n",
    "from sklearn.model_selection import GridSearchCV"
   ]
  },
  {
   "cell_type": "code",
   "execution_count": 26,
   "id": "43ca7f38",
   "metadata": {},
   "outputs": [],
   "source": [
    "labels = pd.read_csv(\"Xray_TeethLabels_Simple.csv\",index_col=0)\n",
    "Ylabels = labels[5:]\n",
    "\n",
    "metaY = labels[:3]\n",
    "\n",
    "X = {}\n",
    "Y = {}\n",
    "count1 = 0\n",
    "count2 = 0\n",
    "count3 = 0\n",
    "for picFilename in glob.glob(\"Processing2/processed/*\"):\n",
    "    patNumber =  picFilename.split('/')[2].split('_')[0]\n",
    "    toothNumber = picFilename.split('/')[2].split('_')[1].split('.')[0]\n",
    "    im = Image.open(picFilename)\n",
    "\n",
    "    if int(metaY.loc['Age',patNumber]) < 25:\n",
    "        count1+=1\n",
    "        if 'Age1' in X.keys():\n",
    "            X['Age1'][patNumber + '_' + toothNumber] = np.array(im).flatten()\n",
    "            Y['Age1'].append(1 if Ylabels.loc[toothNumber,patNumber] == 'Yes' else 0)\n",
    "        else:\n",
    "            X['Age1'] = pd.DataFrame()\n",
    "            X['Age1'][patNumber + '_' + toothNumber] = np.array(im).flatten()\n",
    "            Y['Age1'] = [1 if Ylabels.loc[toothNumber,patNumber] == 'Yes' else 0]\n",
    "    \n",
    "    elif int(metaY.loc['Age',patNumber]) < 40:\n",
    "        count2+=1\n",
    "        if 'Age2' in X.keys():\n",
    "            X['Age2'][patNumber + '_' + toothNumber] = np.array(im).flatten()\n",
    "            Y['Age2'].append(1 if Ylabels.loc[toothNumber,patNumber] == 'Yes' else 0)\n",
    "        else:\n",
    "            X['Age2'] = pd.DataFrame()\n",
    "            X['Age2'][patNumber + '_' + toothNumber] = np.array(im).flatten()\n",
    "            Y['Age2'] = [1 if Ylabels.loc[toothNumber,patNumber] == 'Yes' else 0]\n",
    "    \n",
    "    else:\n",
    "        count3+=1\n",
    "        if 'Age3' in X.keys():\n",
    "            X['Age3'][patNumber + '_' + toothNumber] = np.array(im).flatten()\n",
    "            Y['Age3'].append(1 if Ylabels.loc[toothNumber,patNumber] == 'Yes' else 0)\n",
    "        else:\n",
    "            X['Age3'] = pd.DataFrame()\n",
    "            X['Age3'][patNumber + '_' + toothNumber] = np.array(im).flatten()\n",
    "            Y['Age3'] = [1 if Ylabels.loc[toothNumber,patNumber] == 'Yes' else 0]"
   ]
  },
  {
   "cell_type": "code",
   "execution_count": 27,
   "id": "557e8830",
   "metadata": {},
   "outputs": [
    {
     "name": "stdout",
     "output_type": "stream",
     "text": [
      "80\n",
      "60\n",
      "84\n"
     ]
    }
   ],
   "source": [
    "print(count1)\n",
    "print(count2)\n",
    "print(count3)"
   ]
  },
  {
   "cell_type": "code",
   "execution_count": 28,
   "id": "17ad3a01",
   "metadata": {},
   "outputs": [
    {
     "name": "stdout",
     "output_type": "stream",
     "text": [
      "The best value for C is: {'C': 0.1}\n"
     ]
    }
   ],
   "source": [
    "np.random.seed(6)\n",
    "def svc_param_selection(X, y, nfolds):\n",
    "    C = [0.1, 1, 10, 100, 1000] #try different values for C\n",
    "    param_grid = {'C': C}\n",
    "    grid_search = GridSearchCV(SVC(kernel='rbf'), param_grid, cv=nfolds)\n",
    "    grid_search.fit(X, y)\n",
    "    grid_search.best_params_\n",
    "    return grid_search.best_params_\n",
    "\n",
    "print (\"The best value for C is:\",svc_param_selection(ageX.T.to_numpy(), np.array(ageY), 2))"
   ]
  },
  {
   "cell_type": "code",
   "execution_count": 29,
   "id": "4b87d196",
   "metadata": {},
   "outputs": [
    {
     "name": "stdout",
     "output_type": "stream",
     "text": [
      "The best value for C is: {'C': 10}\n",
      "SVM modle for age: Age2\n",
      "SVC(C=10)\n",
      "              precision    recall  f1-score   support\n",
      "\n",
      "           0       0.50      0.29      0.36         7\n",
      "           1       0.38      0.60      0.46         5\n",
      "\n",
      "    accuracy                           0.42        12\n",
      "   macro avg       0.44      0.44      0.41        12\n",
      "weighted avg       0.45      0.42      0.40        12\n",
      "\n",
      "[[2 5]\n",
      " [2 3]]\n",
      "The best value for C is: {'C': 100}\n",
      "SVM modle for age: Age1\n",
      "SVC(C=100)\n",
      "              precision    recall  f1-score   support\n",
      "\n",
      "           0       0.71      0.71      0.71         7\n",
      "           1       0.78      0.78      0.78         9\n",
      "\n",
      "    accuracy                           0.75        16\n",
      "   macro avg       0.75      0.75      0.75        16\n",
      "weighted avg       0.75      0.75      0.75        16\n",
      "\n",
      "[[5 2]\n",
      " [2 7]]\n",
      "The best value for C is: {'C': 0.1}\n",
      "SVM modle for age: Age3\n",
      "SVC(C=0.1)\n",
      "              precision    recall  f1-score   support\n",
      "\n",
      "           0       0.53      1.00      0.69         9\n",
      "           1       0.00      0.00      0.00         8\n",
      "\n",
      "    accuracy                           0.53        17\n",
      "   macro avg       0.26      0.50      0.35        17\n",
      "weighted avg       0.28      0.53      0.37        17\n",
      "\n",
      "[[9 0]\n",
      " [8 0]]\n"
     ]
    },
    {
     "name": "stderr",
     "output_type": "stream",
     "text": [
      "/usr/local/anaconda3/envs/opencv/lib/python3.6/site-packages/sklearn/metrics/_classification.py:1248: UndefinedMetricWarning: Precision and F-score are ill-defined and being set to 0.0 in labels with no predicted samples. Use `zero_division` parameter to control this behavior.\n",
      "  _warn_prf(average, modifier, msg_start, len(result))\n",
      "/usr/local/anaconda3/envs/opencv/lib/python3.6/site-packages/sklearn/metrics/_classification.py:1248: UndefinedMetricWarning: Precision and F-score are ill-defined and being set to 0.0 in labels with no predicted samples. Use `zero_division` parameter to control this behavior.\n",
      "  _warn_prf(average, modifier, msg_start, len(result))\n",
      "/usr/local/anaconda3/envs/opencv/lib/python3.6/site-packages/sklearn/metrics/_classification.py:1248: UndefinedMetricWarning: Precision and F-score are ill-defined and being set to 0.0 in labels with no predicted samples. Use `zero_division` parameter to control this behavior.\n",
      "  _warn_prf(average, modifier, msg_start, len(result))\n"
     ]
    }
   ],
   "source": [
    "for age in X.keys():\n",
    "    ageX = X[age]\n",
    "    ageY = Y[age]\n",
    "\n",
    "    X_train, X_test, y_train, y_test = train_test_split(ageX.T.to_numpy(), np.array(ageY), test_size=0.20)\n",
    "    \n",
    "    best_c = svc_param_selection(ageX.T.to_numpy(), np.array(ageY), 2)\n",
    "    print (\"The best value for C is:\",best_c)\n",
    "\n",
    "    print(f\"SVM modle for age: {age}\")\n",
    "    model = SVC(C=best_c['C'], kernel='rbf')\n",
    "    model.fit(X_train, y_train)\n",
    "    print(model)\n",
    "    # make predictions\n",
    "    expected = y_test\n",
    "    predicted = model.predict(X_test)\n",
    "    # summarize the fit of the model\n",
    "    print(metrics.classification_report(expected, predicted))\n",
    "    print(metrics.confusion_matrix(expected, predicted))\n",
    "\n",
    "    # print(\"KNN Accuracy: {}%\".format(stat.mean(neighAcc)*100))"
   ]
  },
  {
   "cell_type": "code",
   "execution_count": 30,
   "id": "45827702",
   "metadata": {},
   "outputs": [
    {
     "name": "stdout",
     "output_type": "stream",
     "text": [
      "SVM modle for age: Age2\n",
      "SVC(C=10, kernel='linear')\n",
      "              precision    recall  f1-score   support\n",
      "\n",
      "           0       0.43      0.75      0.55         4\n",
      "           1       0.80      0.50      0.62         8\n",
      "\n",
      "    accuracy                           0.58        12\n",
      "   macro avg       0.61      0.62      0.58        12\n",
      "weighted avg       0.68      0.58      0.59        12\n",
      "\n",
      "[[3 1]\n",
      " [4 4]]\n",
      "SVM modle for age: Age1\n",
      "SVC(C=100, kernel='linear')\n",
      "              precision    recall  f1-score   support\n",
      "\n",
      "           0       0.50      0.50      0.50         6\n",
      "           1       0.70      0.70      0.70        10\n",
      "\n",
      "    accuracy                           0.62        16\n",
      "   macro avg       0.60      0.60      0.60        16\n",
      "weighted avg       0.62      0.62      0.62        16\n",
      "\n",
      "[[3 3]\n",
      " [3 7]]\n",
      "SVM modle for age: Age3\n",
      "SVC(C=0.1, kernel='linear')\n",
      "              precision    recall  f1-score   support\n",
      "\n",
      "           0       0.77      0.77      0.77        13\n",
      "           1       0.25      0.25      0.25         4\n",
      "\n",
      "    accuracy                           0.65        17\n",
      "   macro avg       0.51      0.51      0.51        17\n",
      "weighted avg       0.65      0.65      0.65        17\n",
      "\n",
      "[[10  3]\n",
      " [ 3  1]]\n"
     ]
    }
   ],
   "source": [
    "for age in X.keys():\n",
    "    ageX = X[age]\n",
    "    ageY = Y[age]\n",
    "\n",
    "    X_train, X_test, y_train, y_test = train_test_split(ageX.T.to_numpy(), np.array(ageY), test_size=0.20)\n",
    "    best_c = svc_param_selection(ageX.T.to_numpy(), np.array(ageY), 2)\n",
    "    \n",
    "    print(f\"SVM modle for age: {age}\")\n",
    "    model = SVC(C=best_c['C'], kernel='linear')\n",
    "    model.fit(X_train, y_train)\n",
    "    print(model)\n",
    "    # make predictions\n",
    "    expected = y_test\n",
    "    predicted = model.predict(X_test)\n",
    "    # summarize the fit of the model\n",
    "    print(metrics.classification_report(expected, predicted))\n",
    "    print(metrics.confusion_matrix(expected, predicted))\n",
    "\n",
    "    # print(\"KNN Accuracy: {}%\".format(stat.mean(neighAcc)*100))"
   ]
  },
  {
   "cell_type": "code",
   "execution_count": null,
   "id": "344dc727",
   "metadata": {},
   "outputs": [],
   "source": []
  }
 ],
 "metadata": {
  "kernelspec": {
   "display_name": "Python 3",
   "language": "python",
   "name": "python3"
  },
  "language_info": {
   "codemirror_mode": {
    "name": "ipython",
    "version": 3
   },
   "file_extension": ".py",
   "mimetype": "text/x-python",
   "name": "python",
   "nbconvert_exporter": "python",
   "pygments_lexer": "ipython3",
   "version": "3.6.13"
  }
 },
 "nbformat": 4,
 "nbformat_minor": 5
}
