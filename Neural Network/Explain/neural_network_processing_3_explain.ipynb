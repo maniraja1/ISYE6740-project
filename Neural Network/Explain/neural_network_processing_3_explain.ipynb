{
 "cells": [
  {
   "cell_type": "code",
   "execution_count": 1,
   "id": "adb516b8",
   "metadata": {},
   "outputs": [],
   "source": [
    "import tensorflow as tf # tensorflow 2.0\n",
    "import numpy as np\n",
    "from os import listdir\n",
    "from os.path import isfile, join\n",
    "from sklearn.model_selection import train_test_split\n",
    "import imageio\n",
    "import pandas as pd\n",
    "import keras\n",
    "from sklearn.metrics import classification_report, confusion_matrix\n",
    "from matplotlib import pyplot as plt\n",
    "from PIL import Image\n",
    "import glob\n",
    "import numpy as np\n",
    "from sklearn.model_selection import train_test_split\n",
    "import pandas as pd"
   ]
  },
  {
   "cell_type": "code",
   "execution_count": 2,
   "id": "b123fd5e",
   "metadata": {},
   "outputs": [],
   "source": [
    "labels = pd.read_csv(\"../../Xray_TeethLabels_Simple.csv\",index_col=0)\n",
    "Ylabels = labels[5:]\n",
    "metaY = labels[:3]\n",
    "X = []\n",
    "Y = []\n",
    "Z = []\n",
    "\n",
    "for picFilename in glob.glob(\"../../processed3/processed/*\"):\n",
    "    #patNumber = picFilename.split('\\\\')[2].split('_')[0]\n",
    "    #toothNumber = picFilename.split('/')[4].split('_')[1].split('.')[0]\n",
    "    #print(picFilename)\n",
    "    patNumber = picFilename.split('/')[4].split('_')[0]\n",
    "    toothNumber1 = picFilename.split('/')[4].split('_')[1]\n",
    "    toothNumber2 = picFilename.split('/')[4].split('_')[2].split('.')[0]\n",
    "    im = Image.open(picFilename)\n",
    "    X.append(np.array(im))\n",
    "    if Ylabels.loc[toothNumber1,patNumber] == 'Yes' or Ylabels.loc[toothNumber2,patNumber] == 'Yes':\n",
    "        Y.append(1)\n",
    "    else:\n",
    "        Y.append(0)\n",
    "    Z.append(picFilename)\n",
    "\n",
    "X = np.array(X)\n",
    "\n",
    "X_train, X_test, Y_train_original, Y_test_original,Z_train,Z_test = train_test_split(X, np.array(Y),Z, random_state = 100, test_size=0.20)\n",
    "\n",
    "Y_train = tf.keras.utils.to_categorical(Y_train_original, 2)\n",
    "Y_test = tf.keras.utils.to_categorical(Y_test_original, 2)"
   ]
  },
  {
   "cell_type": "code",
   "execution_count": 4,
   "id": "e561b5a7",
   "metadata": {},
   "outputs": [],
   "source": [
    "from keras.models import Sequential\n",
    "from keras.layers import Dense, Conv2D, Flatten\n",
    "from keras.layers import MaxPooling2D, Dropout\n",
    "\n",
    "model = Sequential()\n",
    "model.add(Conv2D(256, 5, activation='relu', input_shape=(500, 500, 3)))\n",
    "#model.add(Dropout(0.05))\n",
    "model.add(MaxPooling2D())\n",
    "\n",
    "model.add(Conv2D(128, 5, activation='relu'))\n",
    "\n",
    "model.add(MaxPooling2D())\n",
    "model.add(Dropout(0.5))\n",
    "\n",
    "model.add(Flatten())\n",
    "model.add(Dense(1024, activation='relu'))\n",
    "#model.add(Dropout(0.5))\n",
    "model.add(Dense(2, activation='softmax'))\n",
    "model.compile(optimizer='adam', loss='binary_crossentropy', metrics=['accuracy'])"
   ]
  },
  {
   "cell_type": "code",
   "execution_count": 5,
   "id": "62fc90d5",
   "metadata": {},
   "outputs": [
    {
     "name": "stdout",
     "output_type": "stream",
     "text": [
      "Epoch 1/3\n",
      "5/5 [==============================] - 221s 40s/step - loss: 48865.9062 - accuracy: 0.4519 - val_loss: 1240.7819 - val_accuracy: 0.4412\n",
      "Epoch 2/3\n",
      "5/5 [==============================] - 185s 35s/step - loss: 393.3966 - accuracy: 0.5556 - val_loss: 22.3341 - val_accuracy: 0.5588\n",
      "Epoch 3/3\n",
      "5/5 [==============================] - 184s 36s/step - loss: 7.0918 - accuracy: 0.6148 - val_loss: 79.6719 - val_accuracy: 0.4412\n",
      "2/2 [==============================] - 11s 888ms/step - loss: 79.6719 - accuracy: 0.4412\n",
      "Accuracy score for epoches 3: 0.44117647409439087\n",
      "[[1 0]\n",
      " [1 0]\n",
      " [1 0]\n",
      " [1 0]\n",
      " [1 0]\n",
      " [1 0]\n",
      " [1 0]\n",
      " [1 0]\n",
      " [1 0]\n",
      " [1 0]\n",
      " [1 0]\n",
      " [1 0]\n",
      " [1 0]\n",
      " [1 0]\n",
      " [1 0]\n",
      " [1 0]\n",
      " [1 0]\n",
      " [1 0]\n",
      " [1 0]\n",
      " [1 0]\n",
      " [1 0]\n",
      " [1 0]\n",
      " [1 0]\n",
      " [1 0]\n",
      " [1 0]\n",
      " [1 0]\n",
      " [1 0]\n",
      " [1 0]\n",
      " [1 0]\n",
      " [1 0]\n",
      " [1 0]\n",
      " [1 0]\n",
      " [1 0]\n",
      " [1 0]]\n",
      "[0, 0, 0, 0, 0, 0, 0, 0, 0, 0, 0, 0, 0, 0, 0, 0, 0, 0, 0, 0, 0, 0, 0, 0, 0, 0, 0, 0, 0, 0, 0, 0, 0, 0]\n",
      "[0 1 0 0 0 1 0 1 1 1 1 0 0 1 1 1 0 1 0 1 1 0 0 1 0 0 0 1 1 0 1 1 1 1]\n",
      "              precision    recall  f1-score   support\n",
      "\n",
      "           0       0.44      1.00      0.61        15\n",
      "           1       0.00      0.00      0.00        19\n",
      "\n",
      "    accuracy                           0.44        34\n",
      "   macro avg       0.22      0.50      0.31        34\n",
      "weighted avg       0.19      0.44      0.27        34\n",
      "\n",
      "15 0 19 0\n"
     ]
    },
    {
     "name": "stderr",
     "output_type": "stream",
     "text": [
      "/usr/local/anaconda3/lib/python3.8/site-packages/sklearn/metrics/_classification.py:1245: UndefinedMetricWarning: Precision and F-score are ill-defined and being set to 0.0 in labels with no predicted samples. Use `zero_division` parameter to control this behavior.\n",
      "  _warn_prf(average, modifier, msg_start, len(result))\n",
      "/usr/local/anaconda3/lib/python3.8/site-packages/sklearn/metrics/_classification.py:1245: UndefinedMetricWarning: Precision and F-score are ill-defined and being set to 0.0 in labels with no predicted samples. Use `zero_division` parameter to control this behavior.\n",
      "  _warn_prf(average, modifier, msg_start, len(result))\n",
      "/usr/local/anaconda3/lib/python3.8/site-packages/sklearn/metrics/_classification.py:1245: UndefinedMetricWarning: Precision and F-score are ill-defined and being set to 0.0 in labels with no predicted samples. Use `zero_division` parameter to control this behavior.\n",
      "  _warn_prf(average, modifier, msg_start, len(result))\n"
     ]
    }
   ],
   "source": [
    "max_epochs = 3\n",
    "model.fit(X_train, Y_train, validation_data=(X_test, Y_test), epochs=max_epochs)\n",
    "info = model.evaluate(X_test, Y_test)\n",
    "print('Accuracy score for epoches ' + str(max_epochs) + ':', info[1])\n",
    "\n",
    "predictions = (model.predict(X_test) > 0.5).astype(int)\n",
    "print(predictions)\n",
    "pred = []\n",
    "\n",
    "for prediction in predictions:\n",
    "    i, = np.where(prediction == 1)\n",
    "    pred.append(i[0])\n",
    "\n",
    "print(pred)\n",
    "print(Y_test_original)\n",
    "print(classification_report(Y_test_original, pred))\n",
    "tn, fp, fn, tp = confusion_matrix(Y_test_original, pred).ravel()\n",
    "print(tn, fp, fn, tp)\n"
   ]
  },
  {
   "cell_type": "code",
   "execution_count": 7,
   "id": "130c6e26",
   "metadata": {},
   "outputs": [
    {
     "name": "stdout",
     "output_type": "stream",
     "text": [
      "(500, 500, 3)\n"
     ]
    },
    {
     "data": {
      "text/plain": [
       "array([['../../processed3/processed/Patient 17_19_18.png', '1.0', '0.0'],\n",
       "       ['../../processed3/processed/Patient 16_13_14.png', '0.0', '1.0'],\n",
       "       ['../../processed3/processed/Patient 16_14_15.png', '1.0', '0.0'],\n",
       "       ['../../processed3/processed/Patient 22_19_18.png', '1.0', '0.0'],\n",
       "       ['../../processed3/processed/Patient 7_30_29.png', '1.0', '0.0'],\n",
       "       ['../../processed3/processed/Patient 15_20_19.png', '0.0', '1.0'],\n",
       "       ['../../processed3/processed/Patient 5_29_28.png', '1.0', '0.0'],\n",
       "       ['../../processed3/processed/Patient 7_4_5.png', '0.0', '1.0'],\n",
       "       ['../../processed3/processed/Patient 15_14_15.png', '0.0', '1.0'],\n",
       "       ['../../processed3/processed/Patient 20_31_30.png', '0.0', '1.0'],\n",
       "       ['../../processed3/processed/Patient 2_13_14.png', '0.0', '1.0'],\n",
       "       ['../../processed3/processed/Patient 18_21_20.png', '1.0', '0.0'],\n",
       "       ['../../processed3/processed/Patient 12_13_14.png', '1.0', '0.0'],\n",
       "       ['../../processed3/processed/Patient 11_12_13.png', '0.0', '1.0'],\n",
       "       ['../../processed3/processed/Patient 24_20_19.png', '0.0', '1.0'],\n",
       "       ['../../processed3/processed/Patient 23_12_13.png', '0.0', '1.0'],\n",
       "       ['../../processed3/processed/Patient 23_14_15.png', '1.0', '0.0'],\n",
       "       ['../../processed3/processed/Patient 18_13_14.png', '0.0', '1.0'],\n",
       "       ['../../processed3/processed/Patient 6_13_14.png', '1.0', '0.0'],\n",
       "       ['../../processed3/processed/Patient 13_21_20.png', '0.0', '1.0'],\n",
       "       ['../../processed3/processed/Patient 25_4_5.png', '0.0', '1.0'],\n",
       "       ['../../processed3/processed/Patient 23_19_18.png', '1.0', '0.0'],\n",
       "       ['../../processed3/processed/Patient 14_20_19.png', '1.0', '0.0'],\n",
       "       ['../../processed3/processed/Patient 22_12_13.png', '0.0', '1.0'],\n",
       "       ['../../processed3/processed/Patient 23_13_14.png', '1.0', '0.0'],\n",
       "       ['../../processed3/processed/Patient 7_31_30.png', '1.0', '0.0'],\n",
       "       ['../../processed3/processed/Patient 18_20_19.png', '1.0', '0.0'],\n",
       "       ['../../processed3/processed/Patient 8_2_3.png', '0.0', '1.0'],\n",
       "       ['../../processed3/processed/Patient 20_3_4.png', '0.0', '1.0'],\n",
       "       ['../../processed3/processed/Patient 22_20_19.png', '1.0', '0.0'],\n",
       "       ['../../processed3/processed/Patient 5_3_4.png', '0.0', '1.0'],\n",
       "       ['../../processed3/processed/Patient 9_13_14.png', '0.0', '1.0'],\n",
       "       ['../../processed3/processed/Patient 9_21_20.png', '0.0', '1.0'],\n",
       "       ['../../processed3/processed/Patient 17_12_13.png', '0.0', '1.0']],\n",
       "      dtype='<U47')"
      ]
     },
     "execution_count": 7,
     "metadata": {},
     "output_type": "execute_result"
    }
   ],
   "source": [
    "image = X_test[5]\n",
    "print(image.shape)\n",
    "np.column_stack((Z_test,Y_test))"
   ]
  },
  {
   "cell_type": "code",
   "execution_count": 8,
   "id": "f4e0f159",
   "metadata": {},
   "outputs": [],
   "source": [
    "%load_ext autoreload\n",
    "%autoreload 2\n",
    "import os,sys\n",
    "import lime\n",
    "from lime import lime_image"
   ]
  },
  {
   "cell_type": "code",
   "execution_count": 9,
   "id": "93393264",
   "metadata": {},
   "outputs": [],
   "source": [
    "explainer = lime_image.LimeImageExplainer()"
   ]
  },
  {
   "cell_type": "code",
   "execution_count": 10,
   "id": "a29f334e",
   "metadata": {},
   "outputs": [
    {
     "data": {
      "application/vnd.jupyter.widget-view+json": {
       "model_id": "2977b2eff4744b84874f81bb6c3b23b7",
       "version_major": 2,
       "version_minor": 0
      },
      "text/plain": [
       "  0%|          | 0/100 [00:00<?, ?it/s]"
      ]
     },
     "metadata": {},
     "output_type": "display_data"
    }
   ],
   "source": [
    "explanation = explainer.explain_instance(image.astype('double'), model.predict, top_labels=2, hide_color=0, num_samples=100)"
   ]
  },
  {
   "cell_type": "code",
   "execution_count": 11,
   "id": "78e06a87",
   "metadata": {},
   "outputs": [],
   "source": [
    "from skimage.segmentation import mark_boundaries"
   ]
  },
  {
   "cell_type": "code",
   "execution_count": 12,
   "id": "2187adc7",
   "metadata": {},
   "outputs": [
    {
     "name": "stderr",
     "output_type": "stream",
     "text": [
      "Clipping input data to the valid range for imshow with RGB data ([0..1] for floats or [0..255] for integers).\n"
     ]
    },
    {
     "data": {
      "text/plain": [
       "<matplotlib.image.AxesImage at 0x7ff54043efd0>"
      ]
     },
     "execution_count": 12,
     "metadata": {},
     "output_type": "execute_result"
    },
    {
     "data": {
      "image/png": "[encoded data removed]",
      "text/plain": [
       "<Figure size 432x288 with 1 Axes>"
      ]
     },
     "metadata": {
      "needs_background": "light"
     },
     "output_type": "display_data"
    }
   ],
   "source": [
    "from matplotlib import pyplot as plt\n",
    "temp, mask = explanation.get_image_and_mask(explanation.top_labels[0], positive_only=False, num_features=10, hide_rest=True)\n",
    "plt.imshow(mark_boundaries(temp, mask))"
   ]
  },
  {
   "cell_type": "code",
   "execution_count": 13,
   "id": "eb57de5f",
   "metadata": {},
   "outputs": [
    {
     "data": {
      "text/plain": [
       "<matplotlib.image.AxesImage at 0x7ff4f4520a30>"
      ]
     },
     "execution_count": 13,
     "metadata": {},
     "output_type": "execute_result"
    },
    {
     "data": {
      "image/png": "[encoded data removed]",
      "text/plain": [
       "<Figure size 432x288 with 1 Axes>"
      ]
     },
     "metadata": {
      "needs_background": "light"
     },
     "output_type": "display_data"
    }
   ],
   "source": [
    "plt.imshow(image)"
   ]
  },
  {
   "cell_type": "code",
   "execution_count": null,
   "id": "22bbabb2",
   "metadata": {},
   "outputs": [],
   "source": []
  }
 ],
 "metadata": {
  "kernelspec": {
   "display_name": "Python 3",
   "language": "python",
   "name": "python3"
  },
  "language_info": {
   "codemirror_mode": {
    "name": "ipython",
    "version": 3
   },
   "file_extension": ".py",
   "mimetype": "text/x-python",
   "name": "python",
   "nbconvert_exporter": "python",
   "pygments_lexer": "ipython3",
   "version": "3.8.8"
  }
 },
 "nbformat": 4,
 "nbformat_minor": 5
}
