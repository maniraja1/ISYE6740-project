{
 "cells": [
  {
   "cell_type": "code",
   "execution_count": 1,
   "id": "bf24a507",
   "metadata": {},
   "outputs": [],
   "source": [
    "from os import fdopen\n",
    "from sklearn.neighbors import KNeighborsClassifier\n",
    "import pandas as pd\n",
    "from sklearn.metrics import accuracy_score\n",
    "from sklearn.metrics import confusion_matrix\n",
    "import statistics as stat\n",
    "from PIL import Image\n",
    "import glob\n",
    "import numpy as np\n",
    "from sklearn.model_selection import train_test_split\n",
    "from sklearn.model_selection import GridSearchCV\n",
    "import tensorflow as tf # tensorflow 2.0\n",
    "from sklearn.metrics import classification_report, confusion_matrix"
   ]
  },
  {
   "cell_type": "code",
   "execution_count": 4,
   "id": "bc688ca4",
   "metadata": {},
   "outputs": [],
   "source": [
    "labels = pd.read_csv(\"../../Xray_TeethLabels_Simple.csv\",index_col=0)\n",
    "Ylabels = labels[5:]\n",
    "metaY = labels[:3]\n",
    "X = {}\n",
    "Y = {}\n",
    "count1 = 0\n",
    "count2 = 0\n",
    "count3 = 0\n",
    "for picFilename in glob.glob(\"../../processed3/processed/*\"):\n",
    "    patNumber = picFilename.split('/')[4].split('_')[0]\n",
    "    toothNumber1 = picFilename.split('/')[4].split('_')[1]\n",
    "    toothNumber2 = picFilename.split('/')[4].split('_')[2].split('.')[0]\n",
    "    im = Image.open(picFilename)\n",
    "\n",
    "    # if int(metaY.loc['Age',patNumber]) < 25:\n",
    "    #     count1+=1\n",
    "    #     if 'Age1' in X.keys():\n",
    "    #         X['Age1'].append(np.array(im))\n",
    "    #         Y['Age1'].append(1 if Ylabels.loc[toothNumber1,patNumber] == 'Yes' or Ylabels.loc[toothNumber2,patNumber] == 'Yes' else 0)\n",
    "    #     else:\n",
    "    #         X['Age1'] = []\n",
    "    #         X['Age1'].append(np.array(im))\n",
    "    #         Y['Age1'] = [1 if Ylabels.loc[toothNumber1,patNumber] == 'Yes' or Ylabels.loc[toothNumber2,patNumber] == 'Yes' else 0]\n",
    "\n",
    "    # if int(metaY.loc['Age',patNumber]) < 40 and int(metaY.loc['Age',patNumber]) > 25:\n",
    "    #     count2+=1\n",
    "    #     if 'Age2' in X.keys():\n",
    "    #         X['Age2'].append(np.array(im))\n",
    "    #         Y['Age2'].append(1 if Ylabels.loc[toothNumber1,patNumber] == 'Yes' or Ylabels.loc[toothNumber2,patNumber] == 'Yes' else 0)\n",
    "    #     else:\n",
    "    #         X['Age2'] = []\n",
    "    #         X['Age2'].append(np.array(im))\n",
    "    #         Y['Age2'] = [1 if Ylabels.loc[toothNumber1,patNumber] == 'Yes' or Ylabels.loc[toothNumber2,patNumber] == 'Yes' else 0]\n",
    "\n",
    "    if int(metaY.loc['Age',patNumber]) > 40:\n",
    "        if 'Age3' in X.keys():\n",
    "            X['Age3'].append(np.array(im))\n",
    "            Y['Age3'].append(1 if Ylabels.loc[toothNumber1,patNumber] == 'Yes' or Ylabels.loc[toothNumber2,patNumber] == 'Yes' else 0)\n",
    "        else:\n",
    "            X['Age3'] = []\n",
    "            X['Age3'].append(np.array(im))\n",
    "            Y['Age3'] = [1 if Ylabels.loc[toothNumber1,patNumber] == 'Yes' or Ylabels.loc[toothNumber2,patNumber] == 'Yes' else 0]\n",
    "\n",
    "for age in X.keys():\n",
    "    ageX = np.array(X[age])\n",
    "    ageY = Y[age]\n",
    "\n",
    "    X_train, X_test, Y_train_original, Y_test_original = train_test_split(ageX, np.array(ageY), random_state = 100, test_size=0.20)\n",
    "\n",
    "    Y_train = tf.keras.utils.to_categorical(Y_train_original, 2)\n",
    "    Y_test = tf.keras.utils.to_categorical(Y_test_original, 2)"
   ]
  },
  {
   "cell_type": "code",
   "execution_count": 5,
   "id": "2858f429",
   "metadata": {},
   "outputs": [],
   "source": [
    "from keras.models import Sequential\n",
    "from keras.layers import Dense, Conv2D, Flatten\n",
    "from keras.layers import MaxPooling2D, Dropout\n",
    "model = Sequential()\n",
    "model.add(Conv2D(256, 5, activation='relu', input_shape=(500,500,3)))\n",
    "model.add(MaxPooling2D())\n",
    "model.add(Conv2D(128, 5, activation='relu'))\n",
    "model.add(MaxPooling2D())\n",
    "model.add(Dropout(0.5))\n",
    "model.add(Flatten())\n",
    "model.add(Dense(1024, activation='relu'))\n",
    "model.add(Dense(2, activation='softmax'))\n",
    "model.compile(optimizer='adam', loss='binary_crossentropy', metrics=['accuracy'])"
   ]
  },
  {
   "cell_type": "code",
   "execution_count": 6,
   "id": "873e1a52",
   "metadata": {},
   "outputs": [
    {
     "name": "stdout",
     "output_type": "stream",
     "text": [
      "Epoch 1/5\n",
      "2/2 [==============================] - 111s 31s/step - loss: 60508.1250 - accuracy: 0.5400 - val_loss: 28236.9961 - val_accuracy: 0.5385\n",
      "Epoch 2/5\n",
      "2/2 [==============================] - 67s 26s/step - loss: 17936.7129 - accuracy: 0.5200 - val_loss: 0.6536 - val_accuracy: 0.5385\n",
      "Epoch 3/5\n",
      "2/2 [==============================] - 65s 25s/step - loss: 0.7263 - accuracy: 0.6400 - val_loss: 0.7686 - val_accuracy: 0.3846\n",
      "Epoch 4/5\n",
      "2/2 [==============================] - 63s 25s/step - loss: 0.5329 - accuracy: 0.6600 - val_loss: 2725.7837 - val_accuracy: 0.5385\n",
      "Epoch 5/5\n",
      "2/2 [==============================] - 61s 25s/step - loss: 1283.9188 - accuracy: 0.6200 - val_loss: 100.0613 - val_accuracy: 0.4615\n",
      "1/1 [==============================] - 3s 3s/step - loss: 100.0613 - accuracy: 0.4615\n",
      "Accuracy score for epoches 5: 0.4615384638309479\n",
      "              precision    recall  f1-score   support\n",
      "\n",
      "           0       0.00      0.00      0.00         7\n",
      "           1       0.46      1.00      0.63         6\n",
      "\n",
      "    accuracy                           0.46        13\n",
      "   macro avg       0.23      0.50      0.32        13\n",
      "weighted avg       0.21      0.46      0.29        13\n",
      "\n",
      "0 7 0 6\n"
     ]
    },
    {
     "name": "stderr",
     "output_type": "stream",
     "text": [
      "/usr/local/anaconda3/lib/python3.8/site-packages/sklearn/metrics/_classification.py:1245: UndefinedMetricWarning: Precision and F-score are ill-defined and being set to 0.0 in labels with no predicted samples. Use `zero_division` parameter to control this behavior.\n",
      "  _warn_prf(average, modifier, msg_start, len(result))\n",
      "/usr/local/anaconda3/lib/python3.8/site-packages/sklearn/metrics/_classification.py:1245: UndefinedMetricWarning: Precision and F-score are ill-defined and being set to 0.0 in labels with no predicted samples. Use `zero_division` parameter to control this behavior.\n",
      "  _warn_prf(average, modifier, msg_start, len(result))\n",
      "/usr/local/anaconda3/lib/python3.8/site-packages/sklearn/metrics/_classification.py:1245: UndefinedMetricWarning: Precision and F-score are ill-defined and being set to 0.0 in labels with no predicted samples. Use `zero_division` parameter to control this behavior.\n",
      "  _warn_prf(average, modifier, msg_start, len(result))\n"
     ]
    }
   ],
   "source": [
    "max_epochs = 5\n",
    "model.fit(X_train, Y_train, validation_data=(X_test, Y_test), epochs=max_epochs)\n",
    "info = model.evaluate(X_test, Y_test)\n",
    "print('Accuracy score for epoches ' + str(max_epochs) + ':', info[1])\n",
    "predictions = (model.predict(X_test) > 0.5).astype(int)\n",
    "pred = []\n",
    "for prediction in predictions:\n",
    "    i, = np.where(prediction == 1)\n",
    "    pred.append(i[0])\n",
    "print(classification_report(Y_test_original, pred))\n",
    "tn, fp, fn, tp = confusion_matrix(Y_test_original, pred).ravel()\n",
    "print(tn, fp, fn, tp)"
   ]
  },
  {
   "cell_type": "code",
   "execution_count": 8,
   "id": "eb2a940c",
   "metadata": {},
   "outputs": [
    {
     "name": "stdout",
     "output_type": "stream",
     "text": [
      "[[1. 0.]\n",
      " [0. 1.]\n",
      " [1. 0.]\n",
      " [1. 0.]\n",
      " [0. 1.]\n",
      " [0. 1.]\n",
      " [1. 0.]\n",
      " [0. 1.]\n",
      " [0. 1.]\n",
      " [0. 1.]\n",
      " [1. 0.]\n",
      " [1. 0.]\n",
      " [1. 0.]]\n",
      "(13, 2)\n"
     ]
    }
   ],
   "source": [
    "print(Y_test)\n",
    "print(Y_test.shape)\n",
    "image = X_test[4]"
   ]
  },
  {
   "cell_type": "code",
   "execution_count": 9,
   "id": "9f131ea2",
   "metadata": {},
   "outputs": [],
   "source": [
    "%load_ext autoreload\n",
    "%autoreload 2\n",
    "import os,sys\n",
    "import lime\n",
    "from lime import lime_image"
   ]
  },
  {
   "cell_type": "code",
   "execution_count": 10,
   "id": "03e8d031",
   "metadata": {},
   "outputs": [],
   "source": [
    "explainer = lime_image.LimeImageExplainer()"
   ]
  },
  {
   "cell_type": "code",
   "execution_count": 11,
   "id": "34290e74",
   "metadata": {},
   "outputs": [
    {
     "data": {
      "application/vnd.jupyter.widget-view+json": {
       "model_id": "0c5cc012711a4c9a9eb7578c29c27a54",
       "version_major": 2,
       "version_minor": 0
      },
      "text/plain": [
       "  0%|          | 0/100 [00:00<?, ?it/s]"
      ]
     },
     "metadata": {},
     "output_type": "display_data"
    }
   ],
   "source": [
    "explanation = explainer.explain_instance(image.astype('double'), model.predict, top_labels=2, hide_color=0, num_samples=100)"
   ]
  },
  {
   "cell_type": "code",
   "execution_count": 12,
   "id": "ebd34d02",
   "metadata": {},
   "outputs": [],
   "source": [
    "from skimage.segmentation import mark_boundaries"
   ]
  },
  {
   "cell_type": "code",
   "execution_count": 13,
   "id": "e5ececcc",
   "metadata": {},
   "outputs": [
    {
     "name": "stderr",
     "output_type": "stream",
     "text": [
      "Clipping input data to the valid range for imshow with RGB data ([0..1] for floats or [0..255] for integers).\n"
     ]
    },
    {
     "data": {
      "text/plain": [
       "<matplotlib.image.AxesImage at 0x7fd894b2b9d0>"
      ]
     },
     "execution_count": 13,
     "metadata": {},
     "output_type": "execute_result"
    },
    {
     "data": {
      "image/png": "[encoded data removed]",
      "text/plain": [
       "<Figure size 432x288 with 1 Axes>"
      ]
     },
     "metadata": {
      "needs_background": "light"
     },
     "output_type": "display_data"
    }
   ],
   "source": [
    "from matplotlib import pyplot as plt\n",
    "temp, mask = explanation.get_image_and_mask(explanation.top_labels[0], positive_only=False, num_features=10, hide_rest=True)\n",
    "plt.imshow(mark_boundaries(temp, mask))"
   ]
  },
  {
   "cell_type": "code",
   "execution_count": 14,
   "id": "7d28790e",
   "metadata": {},
   "outputs": [
    {
     "data": {
      "text/plain": [
       "<matplotlib.image.AxesImage at 0x7fd8d0728760>"
      ]
     },
     "execution_count": 14,
     "metadata": {},
     "output_type": "execute_result"
    },
    {
     "data": {
      "image/png": "[encoded data removed]",
      "text/plain": [
       "<Figure size 432x288 with 1 Axes>"
      ]
     },
     "metadata": {
      "needs_background": "light"
     },
     "output_type": "display_data"
    }
   ],
   "source": [
    "plt.imshow(image)"
   ]
  },
  {
   "cell_type": "code",
   "execution_count": null,
   "id": "9aa15292",
   "metadata": {},
   "outputs": [],
   "source": []
  }
 ],
 "metadata": {
  "kernelspec": {
   "display_name": "Python 3",
   "language": "python",
   "name": "python3"
  },
  "language_info": {
   "codemirror_mode": {
    "name": "ipython",
    "version": 3
   },
   "file_extension": ".py",
   "mimetype": "text/x-python",
   "name": "python",
   "nbconvert_exporter": "python",
   "pygments_lexer": "ipython3",
   "version": "3.8.8"
  }
 },
 "nbformat": 4,
 "nbformat_minor": 5
}
