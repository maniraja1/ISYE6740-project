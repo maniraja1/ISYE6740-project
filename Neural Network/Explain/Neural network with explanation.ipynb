{
 "cells": [
  {
   "cell_type": "code",
   "execution_count": 117,
   "id": "205e0441",
   "metadata": {},
   "outputs": [],
   "source": [
    "import tensorflow as tf # tensorflow 2.0\n",
    "import numpy as np\n",
    "from os import listdir\n",
    "from os.path import isfile, join\n",
    "from sklearn.model_selection import train_test_split\n",
    "import imageio\n",
    "import pandas as pd\n",
    "import keras\n",
    "from sklearn.metrics import classification_report, confusion_matrix\n",
    "from matplotlib import pyplot as plt\n",
    "from PIL import Image\n",
    "import glob\n",
    "import numpy as np\n",
    "from sklearn.model_selection import train_test_split\n",
    "import pandas as pd"
   ]
  },
  {
   "cell_type": "code",
   "execution_count": 118,
   "id": "c55bd670",
   "metadata": {},
   "outputs": [],
   "source": [
    "labels = pd.read_csv(\"../../Xray_TeethLabels_Simple.csv\",index_col=0)\n",
    "Ylabels = labels[5:]\n",
    "metaY = labels[:3]"
   ]
  },
  {
   "cell_type": "code",
   "execution_count": 119,
   "id": "11324a97",
   "metadata": {},
   "outputs": [],
   "source": [
    "X = []\n",
    "Y = []\n",
    "Z = []\n",
    "for picFilename in glob.glob(\"../../processed2/processed/*\"):\n",
    "    #print(picFilename)\n",
    "    patNumber = picFilename.split('/')[4].split('_')[0]\n",
    "    toothNumber = picFilename.split('/')[4].split('_')[1].split('.')[0]\n",
    "    #print(Ylabels.loc[toothNumber,patNumber])\n",
    "    im = Image.open(picFilename)\n",
    "    X.append(np.array(im))\n",
    "    if (Ylabels.loc[toothNumber,patNumber] == \"Yes\"):\n",
    "        Y.append(1)\n",
    "    else:\n",
    "        Y.append(0)\n",
    "    Z.append(picFilename)\n",
    "X = np.array(X)\n",
    "\n",
    "X_train, X_test, Y_train_original, Y_test_original,Z_train,Z_test = train_test_split(X, np.array(Y),Z, random_state = 100, test_size=0.20)\n",
    "\n",
    "Y_train = tf.keras.utils.to_categorical(Y_train_original, 2)\n",
    "Y_test = tf.keras.utils.to_categorical(Y_test_original, 2)"
   ]
  },
  {
   "cell_type": "code",
   "execution_count": 120,
   "id": "5d956d0c",
   "metadata": {},
   "outputs": [
    {
     "name": "stdout",
     "output_type": "stream",
     "text": [
      "224\n",
      "179\n"
     ]
    }
   ],
   "source": [
    "print(len(X))\n",
    "print(len(np.column_stack((Z_train,Y_train))))"
   ]
  },
  {
   "cell_type": "code",
   "execution_count": 121,
   "id": "48dbf9ff",
   "metadata": {},
   "outputs": [],
   "source": [
    "from keras.models import Sequential\n",
    "from keras.layers import Dense, Conv2D, Flatten\n",
    "from keras.layers import MaxPooling2D, Dropout\n",
    "\n",
    "model = Sequential()\n",
    "model.add(Conv2D(256, 5, activation='relu', input_shape=(500, 500, 3)))\n",
    "#model.add(Dropout(0.05))\n",
    "model.add(MaxPooling2D())\n",
    "\n",
    "model.add(Conv2D(128, 5, activation='relu'))\n",
    "\n",
    "model.add(MaxPooling2D())\n",
    "model.add(Dropout(0.5))\n",
    "\n",
    "model.add(Flatten())\n",
    "model.add(Dense(1024, activation='relu'))\n",
    "#model.add(Dropout(0.5))\n",
    "model.add(Dense(2, activation='softmax'))\n",
    "model.compile(optimizer='adam', loss='binary_crossentropy', metrics=['accuracy'])"
   ]
  },
  {
   "cell_type": "code",
   "execution_count": 122,
   "id": "9c2a1b0d",
   "metadata": {},
   "outputs": [
    {
     "name": "stdout",
     "output_type": "stream",
     "text": [
      "Epoch 1/3\n",
      "6/6 [==============================] - 363s 56s/step - loss: 24320.1895 - accuracy: 0.5642 - val_loss: 59.7711 - val_accuracy: 0.5111\n",
      "Epoch 2/3\n",
      "6/6 [==============================] - 286s 47s/step - loss: 8.6238 - accuracy: 0.5866 - val_loss: 0.6632 - val_accuracy: 0.6000\n",
      "Epoch 3/3\n",
      "6/6 [==============================] - 292s 48s/step - loss: 0.6466 - accuracy: 0.6760 - val_loss: 0.9745 - val_accuracy: 0.6444\n",
      "2/2 [==============================] - 15s 4s/step - loss: 0.9745 - accuracy: 0.6444\n",
      "Accuracy score for epoches 3: 0.644444465637207\n",
      "[[1 0]\n",
      " [1 0]\n",
      " [0 1]\n",
      " [0 1]\n",
      " [1 0]\n",
      " [0 1]\n",
      " [1 0]\n",
      " [0 1]\n",
      " [1 0]\n",
      " [1 0]\n",
      " [1 0]\n",
      " [0 1]\n",
      " [1 0]\n",
      " [0 1]\n",
      " [1 0]\n",
      " [1 0]\n",
      " [0 1]\n",
      " [1 0]\n",
      " [1 0]\n",
      " [1 0]\n",
      " [1 0]\n",
      " [1 0]\n",
      " [1 0]\n",
      " [1 0]\n",
      " [1 0]\n",
      " [0 1]\n",
      " [1 0]\n",
      " [1 0]\n",
      " [0 1]\n",
      " [0 1]\n",
      " [1 0]\n",
      " [1 0]\n",
      " [0 1]\n",
      " [1 0]\n",
      " [0 1]\n",
      " [0 1]\n",
      " [1 0]\n",
      " [1 0]\n",
      " [1 0]\n",
      " [0 1]\n",
      " [0 1]\n",
      " [0 1]\n",
      " [0 1]\n",
      " [1 0]\n",
      " [0 1]]\n",
      "[0, 0, 1, 1, 0, 1, 0, 1, 0, 0, 0, 1, 0, 1, 0, 0, 1, 0, 0, 0, 0, 0, 0, 0, 0, 1, 0, 0, 1, 1, 0, 0, 1, 0, 1, 1, 0, 0, 0, 1, 1, 1, 1, 0, 1]\n",
      "[1 0 0 0 1 1 0 0 0 0 0 1 1 1 0 0 0 0 1 0 1 0 0 0 1 1 1 0 1 1 1 0 0 1 1 1 0\n",
      " 0 1 1 1 1 1 0 0]\n",
      "              precision    recall  f1-score   support\n",
      "\n",
      "           0       0.63      0.74      0.68        23\n",
      "           1       0.67      0.55      0.60        22\n",
      "\n",
      "    accuracy                           0.64        45\n",
      "   macro avg       0.65      0.64      0.64        45\n",
      "weighted avg       0.65      0.64      0.64        45\n",
      "\n",
      "17 6 10 12\n"
     ]
    }
   ],
   "source": [
    "max_epochs = 3\n",
    "model.fit(X_train, Y_train, validation_data=(X_test, Y_test), epochs=max_epochs)\n",
    "info = model.evaluate(X_test, Y_test)\n",
    "print('Accuracy score for epoches ' + str(max_epochs) + ':', info[1])\n",
    "\n",
    "predictions = (model.predict(X_test) > 0.5).astype(int)\n",
    "print(predictions)\n",
    "pred = []\n",
    "\n",
    "for prediction in predictions:\n",
    "    i, = np.where(prediction == 1)\n",
    "    pred.append(i[0])\n",
    "\n",
    "print(pred)\n",
    "print(Y_test_original)\n",
    "print(classification_report(Y_test_original, pred))\n",
    "tn, fp, fn, tp = confusion_matrix(Y_test_original, pred).ravel()\n",
    "print(tn, fp, fn, tp)\n"
   ]
  },
  {
   "cell_type": "code",
   "execution_count": 123,
   "id": "b30d2537",
   "metadata": {},
   "outputs": [
    {
     "name": "stdout",
     "output_type": "stream",
     "text": [
      "(500, 500, 3)\n"
     ]
    },
    {
     "data": {
      "text/plain": [
       "array([['../../processed2/processed/Patient 2_19.png', '0.0', '1.0'],\n",
       "       ['../../processed2/processed/Patient 22_19.png', '1.0', '0.0'],\n",
       "       ['../../processed2/processed/Patient 26_21.png', '1.0', '0.0'],\n",
       "       ['../../processed2/processed/Patient 2_21.png', '1.0', '0.0'],\n",
       "       ['../../processed2/processed/Patient 19_3.png', '0.0', '1.0'],\n",
       "       ['../../processed2/processed/Patient 11_13.png', '0.0', '1.0'],\n",
       "       ['../../processed2/processed/Patient 22_14.png', '1.0', '0.0'],\n",
       "       ['../../processed2/processed/Patient 5_3.png', '1.0', '0.0'],\n",
       "       ['../../processed2/processed/Patient 7_29.png', '1.0', '0.0'],\n",
       "       ['../../processed2/processed/Patient 7_31.png', '1.0', '0.0'],\n",
       "       ['../../processed2/processed/Patient 19_31.png', '1.0', '0.0'],\n",
       "       ['../../processed2/processed/Patient 14_13.png', '0.0', '1.0'],\n",
       "       ['../../processed2/processed/Patient 2_14.png', '0.0', '1.0'],\n",
       "       ['../../processed2/processed/Patient 11_15.png', '0.0', '1.0'],\n",
       "       ['../../processed2/processed/Patient 6_14.png', '1.0', '0.0'],\n",
       "       ['../../processed2/processed/Patient 3_2.png', '1.0', '0.0'],\n",
       "       ['../../processed2/processed/Patient 14_19.png', '1.0', '0.0'],\n",
       "       ['../../processed2/processed/Patient 1_18.png', '1.0', '0.0'],\n",
       "       ['../../processed2/processed/Patient 21_3.png', '0.0', '1.0'],\n",
       "       ['../../processed2/processed/Patient 7_30.png', '1.0', '0.0'],\n",
       "       ['../../processed2/processed/Patient 19_19.png', '0.0', '1.0'],\n",
       "       ['../../processed2/processed/Patient 1_19.png', '1.0', '0.0'],\n",
       "       ['../../processed2/processed/Patient 16_19.png', '1.0', '0.0'],\n",
       "       ['../../processed2/processed/Patient 26_15.png', '1.0', '0.0'],\n",
       "       ['../../processed2/processed/Patient 15_18.png', '0.0', '1.0'],\n",
       "       ['../../processed2/processed/Patient 11_12.png', '0.0', '1.0'],\n",
       "       ['../../processed2/processed/Patient 13_21.png', '0.0', '1.0'],\n",
       "       ['../../processed2/processed/Patient 7_2.png', '1.0', '0.0'],\n",
       "       ['../../processed2/processed/Patient 20_3.png', '0.0', '1.0'],\n",
       "       ['../../processed2/processed/Patient 19_5.png', '0.0', '1.0'],\n",
       "       ['../../processed2/processed/Patient 9_12.png', '0.0', '1.0'],\n",
       "       ['../../processed2/processed/Patient 24_18.png', '1.0', '0.0'],\n",
       "       ['../../processed2/processed/Patient 1_12.png', '1.0', '0.0'],\n",
       "       ['../../processed2/processed/Patient 2_15.png', '0.0', '1.0'],\n",
       "       ['../../processed2/processed/Patient 4_29.png', '0.0', '1.0'],\n",
       "       ['../../processed2/processed/Patient 9_13.png', '0.0', '1.0'],\n",
       "       ['../../processed2/processed/Patient 12_19.png', '1.0', '0.0'],\n",
       "       ['../../processed2/processed/Patient 15_15.png', '1.0', '0.0'],\n",
       "       ['../../processed2/processed/Patient 8_2.png', '0.0', '1.0'],\n",
       "       ['../../processed2/processed/Patient 19_20.png', '0.0', '1.0'],\n",
       "       ['../../processed2/processed/Patient 16_13.png', '0.0', '1.0'],\n",
       "       ['../../processed2/processed/Patient 11_14.png', '0.0', '1.0'],\n",
       "       ['../../processed2/processed/Patient 20_30.png', '0.0', '1.0'],\n",
       "       ['../../processed2/processed/Patient 2_13.png', '1.0', '0.0'],\n",
       "       ['../../processed2/processed/Patient 18_13.png', '1.0', '0.0']],\n",
       "      dtype='<U44')"
      ]
     },
     "execution_count": 123,
     "metadata": {},
     "output_type": "execute_result"
    }
   ],
   "source": [
    "image = X_test[4]\n",
    "print(image.shape)\n",
    "np.column_stack((Z_test,Y_test))"
   ]
  },
  {
   "cell_type": "code",
   "execution_count": 124,
   "id": "0075223f",
   "metadata": {},
   "outputs": [
    {
     "name": "stdout",
     "output_type": "stream",
     "text": [
      "The autoreload extension is already loaded. To reload it, use:\n",
      "  %reload_ext autoreload\n"
     ]
    }
   ],
   "source": [
    "%load_ext autoreload\n",
    "%autoreload 2\n",
    "import os,sys\n",
    "import lime\n",
    "from lime import lime_image"
   ]
  },
  {
   "cell_type": "code",
   "execution_count": 125,
   "id": "3d608066",
   "metadata": {},
   "outputs": [],
   "source": [
    "explainer = lime_image.LimeImageExplainer()"
   ]
  },
  {
   "cell_type": "code",
   "execution_count": 126,
   "id": "2ac837b8",
   "metadata": {},
   "outputs": [
    {
     "data": {
      "application/vnd.jupyter.widget-view+json": {
       "model_id": "0c7d2e0b511540d986558fbb110bd5c8",
       "version_major": 2,
       "version_minor": 0
      },
      "text/plain": [
       "  0%|          | 0/1000 [00:00<?, ?it/s]"
      ]
     },
     "metadata": {},
     "output_type": "display_data"
    }
   ],
   "source": [
    "explanation = explainer.explain_instance(image.astype('double'), model.predict, top_labels=2, hide_color=0, num_samples=100)"
   ]
  },
  {
   "cell_type": "code",
   "execution_count": 127,
   "id": "ffef62c7",
   "metadata": {},
   "outputs": [],
   "source": [
    "from skimage.segmentation import mark_boundaries"
   ]
  },
  {
   "cell_type": "code",
   "execution_count": 128,
   "id": "cd27c490",
   "metadata": {},
   "outputs": [
    {
     "name": "stderr",
     "output_type": "stream",
     "text": [
      "Clipping input data to the valid range for imshow with RGB data ([0..1] for floats or [0..255] for integers).\n"
     ]
    },
    {
     "data": {
      "text/plain": [
       "<matplotlib.image.AxesImage at 0x7fb1bc8163a0>"
      ]
     },
     "execution_count": 128,
     "metadata": {},
     "output_type": "execute_result"
    },
    {
     "data": {
      "image/png": "[encoded data removed]",
      "text/plain": [
       "<Figure size 432x288 with 1 Axes>"
      ]
     },
     "metadata": {
      "needs_background": "light"
     },
     "output_type": "display_data"
    }
   ],
   "source": [
    "temp, mask = explanation.get_image_and_mask(explanation.top_labels[0], positive_only=False, num_features=10, hide_rest=True)\n",
    "plt.imshow(mark_boundaries(temp, mask))"
   ]
  },
  {
   "cell_type": "code",
   "execution_count": 129,
   "id": "faab4e85",
   "metadata": {},
   "outputs": [
    {
     "data": {
      "text/plain": [
       "<matplotlib.image.AxesImage at 0x7fb1a14a85e0>"
      ]
     },
     "execution_count": 129,
     "metadata": {},
     "output_type": "execute_result"
    },
    {
     "data": {
      "image/png": "[encoded data removed]",
      "text/plain": [
       "<Figure size 432x288 with 1 Axes>"
      ]
     },
     "metadata": {
      "needs_background": "light"
     },
     "output_type": "display_data"
    }
   ],
   "source": [
    "plt.imshow(image)"
   ]
  },
  {
   "cell_type": "code",
   "execution_count": null,
   "id": "a9773ee3",
   "metadata": {},
   "outputs": [],
   "source": []
  }
 ],
 "metadata": {
  "kernelspec": {
   "display_name": "Python 3",
   "language": "python",
   "name": "python3"
  },
  "language_info": {
   "codemirror_mode": {
    "name": "ipython",
    "version": 3
   },
   "file_extension": ".py",
   "mimetype": "text/x-python",
   "name": "python",
   "nbconvert_exporter": "python",
   "pygments_lexer": "ipython3",
   "version": "3.8.8"
  }
 },
 "nbformat": 4,
 "nbformat_minor": 5
}
