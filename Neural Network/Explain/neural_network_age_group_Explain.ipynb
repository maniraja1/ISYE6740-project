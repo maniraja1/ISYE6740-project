{
 "cells": [
  {
   "cell_type": "code",
   "execution_count": 8,
   "id": "4b0935fd",
   "metadata": {},
   "outputs": [],
   "source": [
    "from os import fdopen\n",
    "from sklearn.neighbors import KNeighborsClassifier\n",
    "import pandas as pd\n",
    "from sklearn.metrics import accuracy_score\n",
    "from sklearn.metrics import confusion_matrix\n",
    "import statistics as stat\n",
    "from PIL import Image\n",
    "import glob\n",
    "import numpy as np\n",
    "from sklearn.model_selection import train_test_split\n",
    "from sklearn.model_selection import GridSearchCV\n",
    "import tensorflow as tf # tensorflow 2.0\n",
    "from sklearn.metrics import classification_report, confusion_matrix"
   ]
  },
  {
   "cell_type": "code",
   "execution_count": 27,
   "id": "fad3c844",
   "metadata": {},
   "outputs": [
    {
     "name": "stdout",
     "output_type": "stream",
     "text": [
      "0\n",
      "0\n",
      "84\n",
      "(17, 2)\n"
     ]
    }
   ],
   "source": [
    "labels = pd.read_csv(\"../../Xray_TeethLabels_Simple.csv\",index_col=0)\n",
    "Ylabels = labels[5:]\n",
    "metaY = labels[:3]\n",
    "\n",
    "X = {}\n",
    "Y = {}\n",
    "Z = {}\n",
    "count1 = 0\n",
    "count2 = 0\n",
    "count3 = 0\n",
    "for picFilename in glob.glob(\"../../processed2/processed/*\"):\n",
    "    patNumber = picFilename.split('/')[4].split('_')[0]\n",
    "    toothNumber = picFilename.split('/')[4].split('_')[1].split('.')[0]\n",
    "    im = Image.open(picFilename)\n",
    "    '''if int(metaY.loc['Age',patNumber]) < 25:\n",
    "        count1+=1\n",
    "        if 'Age1' in X.keys():\n",
    "            X['Age1'].append(np.array(im))\n",
    "            Y['Age1'].append(1 if Ylabels.loc[toothNumber,patNumber] == 'Yes' else 0)\n",
    "        else:\n",
    "            X['Age1'] = []\n",
    "            X['Age1'].append(np.array(im))\n",
    "            Y['Age1'] = [1 if Ylabels.loc[toothNumber,patNumber] == 'Yes' else 0]\n",
    "            \n",
    "    if int(metaY.loc['Age',patNumber]) < 40 and int(metaY.loc['Age',patNumber]) > 25:\n",
    "        count2+=1\n",
    "        if 'Age2' in X.keys():\n",
    "            X['Age2'].append(np.array(im))\n",
    "            Y['Age2'].append(1 if Ylabels.loc[toothNumber,patNumber] == 'Yes' else 0)\n",
    "            #Z['Age2'].append(picFilename)\n",
    "        else:\n",
    "            X['Age2'] = []\n",
    "            X['Age2'].append(np.array(im))\n",
    "            Y['Age2'] = [1 if Ylabels.loc[toothNumber,patNumber] == 'Yes' else 0]\n",
    "            #Z['Age2'].append(picFilename)'''\n",
    "    if int(metaY.loc['Age',patNumber]) > 40:\n",
    "        count3+=1\n",
    "        if 'Age3' in X.keys():\n",
    "            X['Age3'].append(np.array(im))\n",
    "            Y['Age3'].append(1 if Ylabels.loc[toothNumber,patNumber] == 'Yes' else 0)\n",
    "        else:\n",
    "            X['Age3'] = []\n",
    "            X['Age3'].append(np.array(im))\n",
    "            Y['Age3'] = [1 if Ylabels.loc[toothNumber,patNumber] == 'Yes' else 0]\n",
    "            \n",
    "print(count1)\n",
    "print(count2)\n",
    "print(count3)\n",
    "#print(X)\n",
    "for age in X.keys():\n",
    "    ageX = np.array(X[age])\n",
    "    ageY = Y[age]\n",
    "\n",
    "    X_train, X_test, Y_train_original, Y_test_original = train_test_split(ageX, np.array(ageY), random_state = 100, test_size=0.20)\n",
    "\n",
    "    Y_train = tf.keras.utils.to_categorical(Y_train_original, 2)\n",
    "    Y_test = tf.keras.utils.to_categorical(Y_test_original, 2)\n",
    "\n",
    "    #print(Y_test)\n",
    "    print(Y_test.shape)"
   ]
  },
  {
   "cell_type": "code",
   "execution_count": 13,
   "id": "3947df50",
   "metadata": {},
   "outputs": [],
   "source": [
    "from keras.models import Sequential\n",
    "from keras.layers import Dense, Conv2D, Flatten\n",
    "from keras.layers import MaxPooling2D, Dropout\n",
    "model = Sequential()\n",
    "model.add(Conv2D(256, 5, activation='relu', input_shape=(500,500,3)))\n",
    "model.add(MaxPooling2D())\n",
    "model.add(Conv2D(128, 5, activation='relu'))\n",
    "model.add(MaxPooling2D())\n",
    "model.add(Dropout(0.5))\n",
    "model.add(Flatten())\n",
    "model.add(Dense(1024, activation='relu'))\n",
    "model.add(Dense(2, activation='softmax'))\n",
    "model.compile(optimizer='adam', loss='binary_crossentropy', metrics=['accuracy'])\n"
   ]
  },
  {
   "cell_type": "code",
   "execution_count": 15,
   "id": "d3f14ecf",
   "metadata": {},
   "outputs": [
    {
     "name": "stdout",
     "output_type": "stream",
     "text": [
      "Epoch 1/5\n",
      "3/3 [==============================] - 125s 35s/step - loss: 0.6894 - accuracy: 0.7015 - val_loss: 0.6953 - val_accuracy: 0.6471\n",
      "Epoch 2/5\n",
      "3/3 [==============================] - 116s 32s/step - loss: 0.6729 - accuracy: 0.7761 - val_loss: 4.7232 - val_accuracy: 0.7059\n",
      "Epoch 3/5\n",
      "3/3 [==============================] - 110s 29s/step - loss: 2.6020 - accuracy: 0.6716 - val_loss: 0.7169 - val_accuracy: 0.5294\n",
      "Epoch 4/5\n",
      "3/3 [==============================] - 102s 30s/step - loss: 0.6166 - accuracy: 0.7313 - val_loss: 0.7282 - val_accuracy: 0.5294\n",
      "Epoch 5/5\n",
      "3/3 [==============================] - 102s 28s/step - loss: 0.5675 - accuracy: 0.8209 - val_loss: 0.8308 - val_accuracy: 0.5294\n",
      "1/1 [==============================] - 5s 5s/step - loss: 0.8308 - accuracy: 0.5294\n",
      "Accuracy score for epoches 5: 0.529411792755127\n",
      "              precision    recall  f1-score   support\n",
      "\n",
      "           0       0.67      0.67      0.67        12\n",
      "           1       0.20      0.20      0.20         5\n",
      "\n",
      "    accuracy                           0.53        17\n",
      "   macro avg       0.43      0.43      0.43        17\n",
      "weighted avg       0.53      0.53      0.53        17\n",
      "\n",
      "8 4 4 1\n"
     ]
    }
   ],
   "source": [
    "max_epochs = 5\n",
    "model.fit(X_train, Y_train, validation_data=(X_test, Y_test), epochs=max_epochs)\n",
    "info = model.evaluate(X_test, Y_test)\n",
    "print('Accuracy score for epoches ' + str(max_epochs) + ':', info[1])\n",
    "predictions = (model.predict(X_test) > 0.5).astype(int)\n",
    "pred = []\n",
    "for prediction in predictions:\n",
    "    i, = np.where(prediction == 1)\n",
    "    pred.append(i[0])\n",
    "print(classification_report(Y_test_original, pred))\n",
    "tn, fp, fn, tp = confusion_matrix(Y_test_original, pred).ravel()\n",
    "print(tn, fp, fn, tp)"
   ]
  },
  {
   "cell_type": "code",
   "execution_count": 19,
   "id": "f66c8575",
   "metadata": {},
   "outputs": [
    {
     "name": "stdout",
     "output_type": "stream",
     "text": [
      "[[1. 0.]\n",
      " [1. 0.]\n",
      " [1. 0.]\n",
      " [0. 1.]\n",
      " [1. 0.]\n",
      " [1. 0.]\n",
      " [1. 0.]\n",
      " [0. 1.]\n",
      " [0. 1.]\n",
      " [1. 0.]\n",
      " [1. 0.]\n",
      " [1. 0.]\n",
      " [0. 1.]\n",
      " [1. 0.]\n",
      " [1. 0.]\n",
      " [0. 1.]\n",
      " [1. 0.]]\n",
      "(17, 2)\n"
     ]
    }
   ],
   "source": [
    "print(Y_test)\n",
    "print(Y_test.shape)\n",
    "image = X_test[3]"
   ]
  },
  {
   "cell_type": "code",
   "execution_count": 20,
   "id": "7872e2dc",
   "metadata": {},
   "outputs": [],
   "source": [
    "%load_ext autoreload\n",
    "%autoreload 2\n",
    "import os,sys\n",
    "import lime\n",
    "from lime import lime_image"
   ]
  },
  {
   "cell_type": "code",
   "execution_count": 21,
   "id": "47cc4546",
   "metadata": {},
   "outputs": [],
   "source": [
    "explainer = lime_image.LimeImageExplainer()"
   ]
  },
  {
   "cell_type": "code",
   "execution_count": 22,
   "id": "f32aac9c",
   "metadata": {},
   "outputs": [
    {
     "data": {
      "application/vnd.jupyter.widget-view+json": {
       "model_id": "4f6a5b464c74416ba9d598f53672b6b9",
       "version_major": 2,
       "version_minor": 0
      },
      "text/plain": [
       "  0%|          | 0/100 [00:00<?, ?it/s]"
      ]
     },
     "metadata": {},
     "output_type": "display_data"
    }
   ],
   "source": [
    "explanation = explainer.explain_instance(image.astype('double'), model.predict, top_labels=2, hide_color=0, num_samples=100)"
   ]
  },
  {
   "cell_type": "code",
   "execution_count": 23,
   "id": "67d6ae49",
   "metadata": {},
   "outputs": [],
   "source": [
    "from skimage.segmentation import mark_boundaries"
   ]
  },
  {
   "cell_type": "code",
   "execution_count": 25,
   "id": "a1ecb653",
   "metadata": {},
   "outputs": [
    {
     "name": "stderr",
     "output_type": "stream",
     "text": [
      "Clipping input data to the valid range for imshow with RGB data ([0..1] for floats or [0..255] for integers).\n"
     ]
    },
    {
     "data": {
      "text/plain": [
       "<matplotlib.image.AxesImage at 0x7fc4d2fe8df0>"
      ]
     },
     "execution_count": 25,
     "metadata": {},
     "output_type": "execute_result"
    },
    {
     "data": {
      "image/png": "[encoded data removed]",
      "text/plain": [
       "<Figure size 432x288 with 1 Axes>"
      ]
     },
     "metadata": {
      "needs_background": "light"
     },
     "output_type": "display_data"
    }
   ],
   "source": [
    "from matplotlib import pyplot as plt\n",
    "temp, mask = explanation.get_image_and_mask(explanation.top_labels[0], positive_only=False, num_features=10, hide_rest=True)\n",
    "plt.imshow(mark_boundaries(temp, mask))"
   ]
  },
  {
   "cell_type": "code",
   "execution_count": 26,
   "id": "52a1827c",
   "metadata": {},
   "outputs": [
    {
     "data": {
      "text/plain": [
       "<matplotlib.image.AxesImage at 0x7fc53a85c940>"
      ]
     },
     "execution_count": 26,
     "metadata": {},
     "output_type": "execute_result"
    },
    {
     "data": {
      "image/png": "[encoded data removed]",
      "text/plain": [
       "<Figure size 432x288 with 1 Axes>"
      ]
     },
     "metadata": {
      "needs_background": "light"
     },
     "output_type": "display_data"
    }
   ],
   "source": [
    "plt.imshow(image)"
   ]
  },
  {
   "cell_type": "code",
   "execution_count": null,
   "id": "8b72728f",
   "metadata": {},
   "outputs": [],
   "source": []
  }
 ],
 "metadata": {
  "kernelspec": {
   "display_name": "Python 3",
   "language": "python",
   "name": "python3"
  },
  "language_info": {
   "codemirror_mode": {
    "name": "ipython",
    "version": 3
   },
   "file_extension": ".py",
   "mimetype": "text/x-python",
   "name": "python",
   "nbconvert_exporter": "python",
   "pygments_lexer": "ipython3",
   "version": "3.8.8"
  }
 },
 "nbformat": 4,
 "nbformat_minor": 5
}
