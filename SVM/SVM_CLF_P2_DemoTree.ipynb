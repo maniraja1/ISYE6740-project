{
 "cells": [
  {
   "cell_type": "code",
   "execution_count": 1,
   "id": "9e3f84a6",
   "metadata": {},
   "outputs": [],
   "source": [
    "from PIL import Image\n",
    "import glob\n",
    "import numpy as np\n",
    "from sklearn.model_selection import train_test_split\n",
    "import pandas as pd\n",
    "from sklearn.svm import SVC\n",
    "from sklearn import metrics\n",
    "from sklearn.linear_model import LogisticRegression"
   ]
  },
  {
   "cell_type": "code",
   "execution_count": 9,
   "id": "43ca7f38",
   "metadata": {},
   "outputs": [],
   "source": [
    "labels = pd.read_csv(\"Xray_TeethLabels_Simple.csv\",index_col=0)\n",
    "Ylabels = labels[5:]\n",
    "\n",
    "metaY = labels[:3]\n",
    "\n",
    "X = {}\n",
    "Y = {}\n",
    "count1 = 0\n",
    "count2 = 0\n",
    "count3 = 0\n",
    "for picFilename in glob.glob(\"Processing2/processed/*\"):\n",
    "    patNumber =  picFilename.split('/')[2].split('_')[0]\n",
    "    toothNumber = picFilename.split('/')[2].split('_')[1].split('.')[0]\n",
    "    im = Image.open(picFilename)\n",
    "\n",
    "    if int(metaY.loc['Age',patNumber]) < 25:\n",
    "        count1+=1\n",
    "        if 'Age1' in X.keys():\n",
    "            X['Age1'][patNumber + '_' + toothNumber] = np.array(im).flatten()\n",
    "            Y['Age1'].append(1 if Ylabels.loc[toothNumber,patNumber] == 'Yes' else 0)\n",
    "        else:\n",
    "            X['Age1'] = pd.DataFrame()\n",
    "            X['Age1'][patNumber + '_' + toothNumber] = np.array(im).flatten()\n",
    "            Y['Age1'] = [1 if Ylabels.loc[toothNumber,patNumber] == 'Yes' else 0]\n",
    "    \n",
    "    elif int(metaY.loc['Age',patNumber]) < 40:\n",
    "        count2+=1\n",
    "        if 'Age2' in X.keys():\n",
    "            X['Age2'][patNumber + '_' + toothNumber] = np.array(im).flatten()\n",
    "            Y['Age2'].append(1 if Ylabels.loc[toothNumber,patNumber] == 'Yes' else 0)\n",
    "        else:\n",
    "            X['Age2'] = pd.DataFrame()\n",
    "            X['Age2'][patNumber + '_' + toothNumber] = np.array(im).flatten()\n",
    "            Y['Age2'] = [1 if Ylabels.loc[toothNumber,patNumber] == 'Yes' else 0]\n",
    "    \n",
    "    else:\n",
    "        count3+=1\n",
    "        if 'Age3' in X.keys():\n",
    "            X['Age3'][patNumber + '_' + toothNumber] = np.array(im).flatten()\n",
    "            Y['Age3'].append(1 if Ylabels.loc[toothNumber,patNumber] == 'Yes' else 0)\n",
    "        else:\n",
    "            X['Age3'] = pd.DataFrame()\n",
    "            X['Age3'][patNumber + '_' + toothNumber] = np.array(im).flatten()\n",
    "            Y['Age3'] = [1 if Ylabels.loc[toothNumber,patNumber] == 'Yes' else 0]"
   ]
  },
  {
   "cell_type": "code",
   "execution_count": 15,
   "id": "557e8830",
   "metadata": {},
   "outputs": [
    {
     "name": "stdout",
     "output_type": "stream",
     "text": [
      "80\n",
      "60\n",
      "84\n",
      "dict_keys(['Age2', 'Age1', 'Age3'])\n"
     ]
    }
   ],
   "source": [
    "print(count1)\n",
    "print(count2)\n",
    "print(count3)"
   ]
  },
  {
   "cell_type": "code",
   "execution_count": 16,
   "id": "4b87d196",
   "metadata": {},
   "outputs": [
    {
     "name": "stdout",
     "output_type": "stream",
     "text": [
      "SVM modle for age: Age2\n",
      "SVC(C=10)\n",
      "              precision    recall  f1-score   support\n",
      "\n",
      "           0       0.11      0.50      0.18         2\n",
      "           1       0.67      0.20      0.31        10\n",
      "\n",
      "    accuracy                           0.25        12\n",
      "   macro avg       0.39      0.35      0.24        12\n",
      "weighted avg       0.57      0.25      0.29        12\n",
      "\n",
      "[[1 1]\n",
      " [8 2]]\n",
      "SVM modle for age: Age1\n",
      "SVC(C=10)\n",
      "              precision    recall  f1-score   support\n",
      "\n",
      "           0       0.67      0.67      0.67         9\n",
      "           1       0.57      0.57      0.57         7\n",
      "\n",
      "    accuracy                           0.62        16\n",
      "   macro avg       0.62      0.62      0.62        16\n",
      "weighted avg       0.62      0.62      0.62        16\n",
      "\n",
      "[[6 3]\n",
      " [3 4]]\n",
      "SVM modle for age: Age3\n",
      "SVC(C=10)\n",
      "              precision    recall  f1-score   support\n",
      "\n",
      "           0       0.92      0.80      0.86        15\n",
      "           1       0.25      0.50      0.33         2\n",
      "\n",
      "    accuracy                           0.76        17\n",
      "   macro avg       0.59      0.65      0.60        17\n",
      "weighted avg       0.84      0.76      0.80        17\n",
      "\n",
      "[[12  3]\n",
      " [ 1  1]]\n"
     ]
    }
   ],
   "source": [
    "for age in X.keys():\n",
    "    ageX = X[age]\n",
    "    ageY = Y[age]\n",
    "\n",
    "    X_train, X_test, y_train, y_test = train_test_split(ageX.T.to_numpy(), np.array(ageY), test_size=0.20)\n",
    "\n",
    "    print(f\"SVM modle for age: {age}\")\n",
    "    model = SVC(C=10, kernel='rbf')\n",
    "    model.fit(X_train, y_train)\n",
    "    print(model)\n",
    "    # make predictions\n",
    "    expected = y_test\n",
    "    predicted = model.predict(X_test)\n",
    "    # summarize the fit of the model\n",
    "    print(metrics.classification_report(expected, predicted))\n",
    "    print(metrics.confusion_matrix(expected, predicted))\n",
    "\n",
    "    # print(\"KNN Accuracy: {}%\".format(stat.mean(neighAcc)*100))"
   ]
  },
  {
   "cell_type": "code",
   "execution_count": 17,
   "id": "45827702",
   "metadata": {},
   "outputs": [
    {
     "name": "stdout",
     "output_type": "stream",
     "text": [
      "SVM modle for age: Age2\n",
      "SVC(C=10, kernel='linear')\n",
      "              precision    recall  f1-score   support\n",
      "\n",
      "           0       0.50      1.00      0.67         6\n",
      "           1       0.00      0.00      0.00         6\n",
      "\n",
      "    accuracy                           0.50        12\n",
      "   macro avg       0.25      0.50      0.33        12\n",
      "weighted avg       0.25      0.50      0.33        12\n",
      "\n",
      "[[6 0]\n",
      " [6 0]]\n",
      "SVM modle for age: Age1\n"
     ]
    },
    {
     "name": "stderr",
     "output_type": "stream",
     "text": [
      "/usr/local/anaconda3/envs/opencv/lib/python3.6/site-packages/sklearn/metrics/_classification.py:1248: UndefinedMetricWarning: Precision and F-score are ill-defined and being set to 0.0 in labels with no predicted samples. Use `zero_division` parameter to control this behavior.\n",
      "  _warn_prf(average, modifier, msg_start, len(result))\n",
      "/usr/local/anaconda3/envs/opencv/lib/python3.6/site-packages/sklearn/metrics/_classification.py:1248: UndefinedMetricWarning: Precision and F-score are ill-defined and being set to 0.0 in labels with no predicted samples. Use `zero_division` parameter to control this behavior.\n",
      "  _warn_prf(average, modifier, msg_start, len(result))\n",
      "/usr/local/anaconda3/envs/opencv/lib/python3.6/site-packages/sklearn/metrics/_classification.py:1248: UndefinedMetricWarning: Precision and F-score are ill-defined and being set to 0.0 in labels with no predicted samples. Use `zero_division` parameter to control this behavior.\n",
      "  _warn_prf(average, modifier, msg_start, len(result))\n"
     ]
    },
    {
     "name": "stdout",
     "output_type": "stream",
     "text": [
      "SVC(C=10, kernel='linear')\n",
      "              precision    recall  f1-score   support\n",
      "\n",
      "           0       0.56      1.00      0.71         5\n",
      "           1       1.00      0.64      0.78        11\n",
      "\n",
      "    accuracy                           0.75        16\n",
      "   macro avg       0.78      0.82      0.75        16\n",
      "weighted avg       0.86      0.75      0.76        16\n",
      "\n",
      "[[5 0]\n",
      " [4 7]]\n",
      "SVM modle for age: Age3\n",
      "SVC(C=10, kernel='linear')\n",
      "              precision    recall  f1-score   support\n",
      "\n",
      "           0       0.85      0.85      0.85        13\n",
      "           1       0.50      0.50      0.50         4\n",
      "\n",
      "    accuracy                           0.76        17\n",
      "   macro avg       0.67      0.67      0.67        17\n",
      "weighted avg       0.76      0.76      0.76        17\n",
      "\n",
      "[[11  2]\n",
      " [ 2  2]]\n"
     ]
    }
   ],
   "source": [
    "for age in X.keys():\n",
    "    ageX = X[age]\n",
    "    ageY = Y[age]\n",
    "\n",
    "    X_train, X_test, y_train, y_test = train_test_split(ageX.T.to_numpy(), np.array(ageY), test_size=0.20)\n",
    "\n",
    "    print(f\"SVM modle for age: {age}\")\n",
    "    model = SVC(C=10, kernel='linear')\n",
    "    model.fit(X_train, y_train)\n",
    "    print(model)\n",
    "    # make predictions\n",
    "    expected = y_test\n",
    "    predicted = model.predict(X_test)\n",
    "    # summarize the fit of the model\n",
    "    print(metrics.classification_report(expected, predicted))\n",
    "    print(metrics.confusion_matrix(expected, predicted))\n",
    "\n",
    "    # print(\"KNN Accuracy: {}%\".format(stat.mean(neighAcc)*100))"
   ]
  },
  {
   "cell_type": "code",
   "execution_count": null,
   "id": "344dc727",
   "metadata": {},
   "outputs": [],
   "source": []
  }
 ],
 "metadata": {
  "kernelspec": {
   "display_name": "Python 3",
   "language": "python",
   "name": "python3"
  },
  "language_info": {
   "codemirror_mode": {
    "name": "ipython",
    "version": 3
   },
   "file_extension": ".py",
   "mimetype": "text/x-python",
   "name": "python",
   "nbconvert_exporter": "python",
   "pygments_lexer": "ipython3",
   "version": "3.6.13"
  }
 },
 "nbformat": 4,
 "nbformat_minor": 5
}
