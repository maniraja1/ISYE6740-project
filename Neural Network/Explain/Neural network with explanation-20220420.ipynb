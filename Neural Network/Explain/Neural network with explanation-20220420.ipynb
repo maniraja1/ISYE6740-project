{
 "cells": [
  {
   "cell_type": "code",
   "execution_count": 2,
   "id": "205e0441",
   "metadata": {},
   "outputs": [],
   "source": [
    "import tensorflow as tf # tensorflow 2.0\n",
    "import numpy as np\n",
    "from os import listdir\n",
    "from os.path import isfile, join\n",
    "from sklearn.model_selection import train_test_split\n",
    "import imageio\n",
    "import pandas as pd\n",
    "import keras\n",
    "from sklearn.metrics import classification_report, confusion_matrix\n",
    "from matplotlib import pyplot as plt\n",
    "from PIL import Image\n",
    "import glob\n",
    "import numpy as np\n",
    "from sklearn.model_selection import train_test_split\n",
    "import pandas as pd"
   ]
  },
  {
   "cell_type": "code",
   "execution_count": 3,
   "id": "c55bd670",
   "metadata": {},
   "outputs": [],
   "source": [
    "labels = pd.read_csv(\"../../Xray_TeethLabels_Simple.csv\",index_col=0)\n",
    "Ylabels = labels[5:]\n",
    "metaY = labels[:3]"
   ]
  },
  {
   "cell_type": "code",
   "execution_count": 4,
   "id": "11324a97",
   "metadata": {},
   "outputs": [],
   "source": [
    "X = []\n",
    "Y = []\n",
    "Z = []\n",
    "for picFilename in glob.glob(\"../../processed2/processed/*\"):\n",
    "    #print(picFilename)\n",
    "    patNumber = picFilename.split('/')[4].split('_')[0]\n",
    "    toothNumber = picFilename.split('/')[4].split('_')[1].split('.')[0]\n",
    "    #print(Ylabels.loc[toothNumber,patNumber])\n",
    "    im = Image.open(picFilename)\n",
    "    X.append(np.array(im))\n",
    "    if (Ylabels.loc[toothNumber,patNumber] == \"Yes\"):\n",
    "        Y.append(1)\n",
    "    else:\n",
    "        Y.append(0)\n",
    "    Z.append(picFilename)\n",
    "X = np.array(X)\n",
    "\n",
    "X_train, X_test, Y_train_original, Y_test_original,Z_train,Z_test = train_test_split(X, np.array(Y),Z, random_state = 100, test_size=0.20)\n",
    "\n",
    "Y_train = tf.keras.utils.to_categorical(Y_train_original, 2)\n",
    "Y_test = tf.keras.utils.to_categorical(Y_test_original, 2)"
   ]
  },
  {
   "cell_type": "code",
   "execution_count": 5,
   "id": "5d956d0c",
   "metadata": {},
   "outputs": [
    {
     "name": "stdout",
     "output_type": "stream",
     "text": [
      "222\n",
      "177\n"
     ]
    }
   ],
   "source": [
    "print(len(X))\n",
    "print(len(np.column_stack((Z_train,Y_train))))"
   ]
  },
  {
   "cell_type": "code",
   "execution_count": 6,
   "id": "48dbf9ff",
   "metadata": {},
   "outputs": [],
   "source": [
    "from keras.models import Sequential\n",
    "from keras.layers import Dense, Conv2D, Flatten\n",
    "from keras.layers import MaxPooling2D, Dropout\n",
    "\n",
    "model = Sequential()\n",
    "model.add(Conv2D(256, 5, activation='relu', input_shape=(500, 500, 3)))\n",
    "model.add(Dropout(0.05))\n",
    "model.add(MaxPooling2D())\n",
    "\n",
    "model.add(Conv2D(128, 5, activation='relu'))\n",
    "\n",
    "model.add(MaxPooling2D())\n",
    "model.add(Dropout(0.05))\n",
    "\n",
    "model.add(Flatten())\n",
    "model.add(Dense(256, activation='relu'))\n",
    "model.add(Dropout(0.05))\n",
    "model.add(Dense(2, activation='softmax'))\n",
    "model.compile(optimizer='adam', loss='binary_crossentropy', metrics=['accuracy'])"
   ]
  },
  {
   "cell_type": "code",
   "execution_count": 7,
   "id": "9c2a1b0d",
   "metadata": {},
   "outputs": [
    {
     "name": "stdout",
     "output_type": "stream",
     "text": [
      "Epoch 1/3\n",
      "6/6 [==============================] - 325s 49s/step - loss: 14644.9941 - accuracy: 0.5819 - val_loss: 86.9826 - val_accuracy: 0.5556\n",
      "Epoch 2/3\n",
      "6/6 [==============================] - 297s 49s/step - loss: 14.0480 - accuracy: 0.6780 - val_loss: 97.3695 - val_accuracy: 0.4444\n",
      "Epoch 3/3\n",
      "6/6 [==============================] - 318s 52s/step - loss: 23.7710 - accuracy: 0.5593 - val_loss: 0.6397 - val_accuracy: 0.6667\n",
      "2/2 [==============================] - 16s 5s/step - loss: 0.6397 - accuracy: 0.6667\n",
      "Accuracy score for epoches 3: 0.6666666865348816\n",
      "[[0 1]\n",
      " [1 0]\n",
      " [0 1]\n",
      " [0 1]\n",
      " [0 1]\n",
      " [1 0]\n",
      " [0 1]\n",
      " [0 1]\n",
      " [0 1]\n",
      " [1 0]\n",
      " [1 0]\n",
      " [1 0]\n",
      " [1 0]\n",
      " [1 0]\n",
      " [1 0]\n",
      " [1 0]\n",
      " [1 0]\n",
      " [1 0]\n",
      " [0 1]\n",
      " [1 0]\n",
      " [1 0]\n",
      " [0 1]\n",
      " [0 1]\n",
      " [1 0]\n",
      " [1 0]\n",
      " [0 1]\n",
      " [1 0]\n",
      " [1 0]\n",
      " [1 0]\n",
      " [1 0]\n",
      " [0 1]\n",
      " [0 1]\n",
      " [1 0]\n",
      " [0 1]\n",
      " [1 0]\n",
      " [1 0]\n",
      " [1 0]\n",
      " [0 1]\n",
      " [0 1]\n",
      " [1 0]\n",
      " [0 1]\n",
      " [1 0]\n",
      " [1 0]\n",
      " [1 0]\n",
      " [1 0]]\n",
      "[1, 0, 1, 1, 1, 0, 1, 1, 1, 0, 0, 0, 0, 0, 0, 0, 0, 0, 1, 0, 0, 1, 1, 0, 0, 1, 0, 0, 0, 0, 1, 1, 0, 1, 0, 0, 0, 1, 1, 0, 1, 0, 0, 0, 0]\n",
      "[0 1 1 1 1 0 1 1 0 0 0 0 0 0 1 0 0 1 0 1 1 1 1 0 0 1 0 1 1 1 1 1 0 1 1 0 0\n",
      " 0 0 0 0 0 0 0 0]\n",
      "              precision    recall  f1-score   support\n",
      "\n",
      "           0       0.68      0.76      0.72        25\n",
      "           1       0.65      0.55      0.59        20\n",
      "\n",
      "    accuracy                           0.67        45\n",
      "   macro avg       0.66      0.66      0.66        45\n",
      "weighted avg       0.66      0.67      0.66        45\n",
      "\n",
      "19 6 9 11\n"
     ]
    }
   ],
   "source": [
    "max_epochs = 3\n",
    "model.fit(X_train, Y_train, validation_data=(X_test, Y_test), epochs=max_epochs)\n",
    "info = model.evaluate(X_test, Y_test)\n",
    "print('Accuracy score for epoches ' + str(max_epochs) + ':', info[1])\n",
    "\n",
    "predictions = (model.predict(X_test) > 0.5).astype(int)\n",
    "print(predictions)\n",
    "pred = []\n",
    "\n",
    "for prediction in predictions:\n",
    "    i, = np.where(prediction == 1)\n",
    "    pred.append(i[0])\n",
    "\n",
    "print(pred)\n",
    "print(Y_test_original)\n",
    "print(classification_report(Y_test_original, pred))\n",
    "tn, fp, fn, tp = confusion_matrix(Y_test_original, pred).ravel()\n",
    "print(tn, fp, fn, tp)\n"
   ]
  },
  {
   "cell_type": "code",
   "execution_count": 9,
   "id": "b30d2537",
   "metadata": {},
   "outputs": [
    {
     "name": "stdout",
     "output_type": "stream",
     "text": [
      "(500, 500, 3)\n"
     ]
    },
    {
     "data": {
      "text/plain": [
       "array([['../../processed2/processed/Patient 2_21.png', '1.0', '0.0'],\n",
       "       ['../../processed2/processed/Patient 10_31.png', '0.0', '1.0'],\n",
       "       ['../../processed2/processed/Patient 20_4.png', '0.0', '1.0'],\n",
       "       ['../../processed2/processed/Patient 20_30.png', '0.0', '1.0'],\n",
       "       ['../../processed2/processed/Patient 15_3.png', '0.0', '1.0'],\n",
       "       ['../../processed2/processed/Patient 21_30.png', '1.0', '0.0'],\n",
       "       ['../../processed2/processed/Patient 3_31.png', '0.0', '1.0'],\n",
       "       ['../../processed2/processed/Patient 15_5.png', '0.0', '1.0'],\n",
       "       ['../../processed2/processed/Patient 24_14.png', '1.0', '0.0'],\n",
       "       ['../../processed2/processed/Patient 19_18.png', '1.0', '0.0'],\n",
       "       ['../../processed2/processed/Patient 18_19.png', '1.0', '0.0'],\n",
       "       ['../../processed2/processed/Patient 20_2.png', '1.0', '0.0'],\n",
       "       ['../../processed2/processed/Patient 14_19.png', '1.0', '0.0'],\n",
       "       ['../../processed2/processed/Patient 24_18.png', '1.0', '0.0'],\n",
       "       ['../../processed2/processed/Patient 11_19.png', '0.0', '1.0'],\n",
       "       ['../../processed2/processed/Patient 6_19.png', '1.0', '0.0'],\n",
       "       ['../../processed2/processed/Patient 7_28.png', '1.0', '0.0'],\n",
       "       ['../../processed2/processed/Patient 13_21.png', '0.0', '1.0'],\n",
       "       ['../../processed2/processed/Patient 8_5.png', '1.0', '0.0'],\n",
       "       ['../../processed2/processed/Patient 3_3.png', '0.0', '1.0'],\n",
       "       ['../../processed2/processed/Patient 4_2.png', '0.0', '1.0'],\n",
       "       ['../../processed2/processed/Patient 24_19.png', '0.0', '1.0'],\n",
       "       ['../../processed2/processed/Patient 10_28.png', '0.0', '1.0'],\n",
       "       ['../../processed2/processed/Patient 8_29.png', '1.0', '0.0'],\n",
       "       ['../../processed2/processed/Patient 26_20.png', '1.0', '0.0'],\n",
       "       ['../../processed2/processed/Patient 10_29.png', '0.0', '1.0'],\n",
       "       ['../../processed2/processed/Patient 8_31.png', '1.0', '0.0'],\n",
       "       ['../../processed2/processed/Patient 6_20.png', '0.0', '1.0'],\n",
       "       ['../../processed2/processed/Patient 15_18.png', '0.0', '1.0'],\n",
       "       ['../../processed2/processed/Patient 2_15.png', '0.0', '1.0'],\n",
       "       ['../../processed2/processed/Patient 15_13.png', '0.0', '1.0'],\n",
       "       ['../../processed2/processed/Patient 11_4.png', '0.0', '1.0'],\n",
       "       ['../../processed2/processed/Patient 17_19.png', '1.0', '0.0'],\n",
       "       ['../../processed2/processed/Patient 19_4.png', '0.0', '1.0'],\n",
       "       ['../../processed2/processed/Patient 8_2.png', '0.0', '1.0'],\n",
       "       ['../../processed2/processed/Patient 4_4.png', '1.0', '0.0'],\n",
       "       ['../../processed2/processed/Patient 14_21.png', '1.0', '0.0'],\n",
       "       ['../../processed2/processed/Patient 10_2.png', '1.0', '0.0'],\n",
       "       ['../../processed2/processed/Patient 1_12.png', '1.0', '0.0'],\n",
       "       ['../../processed2/processed/Patient 2_13.png', '1.0', '0.0'],\n",
       "       ['../../processed2/processed/Patient 18_13.png', '1.0', '0.0'],\n",
       "       ['../../processed2/processed/Patient 5_29.png', '1.0', '0.0'],\n",
       "       ['../../processed2/processed/Patient 22_21.png', '1.0', '0.0'],\n",
       "       ['../../processed2/processed/Patient 16_15.png', '1.0', '0.0'],\n",
       "       ['../../processed2/processed/Patient 13_19.png', '1.0', '0.0']],\n",
       "      dtype='<U44')"
      ]
     },
     "execution_count": 9,
     "metadata": {},
     "output_type": "execute_result"
    }
   ],
   "source": [
    "image = X_test[4]\n",
    "print(image.shape)\n",
    "np.column_stack((Z_test,Y_test))"
   ]
  },
  {
   "cell_type": "code",
   "execution_count": 10,
   "id": "0075223f",
   "metadata": {},
   "outputs": [],
   "source": [
    "%load_ext autoreload\n",
    "%autoreload 2\n",
    "import os,sys\n",
    "import lime\n",
    "from lime import lime_image"
   ]
  },
  {
   "cell_type": "code",
   "execution_count": 11,
   "id": "3d608066",
   "metadata": {},
   "outputs": [],
   "source": [
    "explainer = lime_image.LimeImageExplainer()"
   ]
  },
  {
   "cell_type": "code",
   "execution_count": 12,
   "id": "2ac837b8",
   "metadata": {},
   "outputs": [
    {
     "data": {
      "application/vnd.jupyter.widget-view+json": {
       "model_id": "c573a544dbb348728e9e8393d2ec17fd",
       "version_major": 2,
       "version_minor": 0
      },
      "text/plain": [
       "  0%|          | 0/100 [00:00<?, ?it/s]"
      ]
     },
     "metadata": {},
     "output_type": "display_data"
    }
   ],
   "source": [
    "explanation = explainer.explain_instance(image.astype('double'), model.predict, top_labels=2, hide_color=0, num_samples=100)"
   ]
  },
  {
   "cell_type": "code",
   "execution_count": 13,
   "id": "ffef62c7",
   "metadata": {},
   "outputs": [],
   "source": [
    "from skimage.segmentation import mark_boundaries"
   ]
  },
  {
   "cell_type": "code",
   "execution_count": 14,
   "id": "cd27c490",
   "metadata": {},
   "outputs": [
    {
     "name": "stderr",
     "output_type": "stream",
     "text": [
      "Clipping input data to the valid range for imshow with RGB data ([0..1] for floats or [0..255] for integers).\n"
     ]
    },
    {
     "data": {
      "text/plain": [
       "<matplotlib.image.AxesImage at 0x7feb892f3cd0>"
      ]
     },
     "execution_count": 14,
     "metadata": {},
     "output_type": "execute_result"
    },
    {
     "data": {
      "image/png": "[encoded data removed]",
      "text/plain": [
       "<Figure size 432x288 with 1 Axes>"
      ]
     },
     "metadata": {
      "needs_background": "light"
     },
     "output_type": "display_data"
    }
   ],
   "source": [
    "temp, mask = explanation.get_image_and_mask(explanation.top_labels[0], positive_only=False, num_features=10, hide_rest=True)\n",
    "plt.imshow(mark_boundaries(temp, mask))"
   ]
  },
  {
   "cell_type": "code",
   "execution_count": 15,
   "id": "faab4e85",
   "metadata": {},
   "outputs": [
    {
     "data": {
      "text/plain": [
       "<matplotlib.image.AxesImage at 0x7feb91027100>"
      ]
     },
     "execution_count": 15,
     "metadata": {},
     "output_type": "execute_result"
    },
    {
     "data": {
      "image/png": "[encoded data removed]",
      "text/plain": [
       "<Figure size 432x288 with 1 Axes>"
      ]
     },
     "metadata": {
      "needs_background": "light"
     },
     "output_type": "display_data"
    }
   ],
   "source": [
    "plt.imshow(image)"
   ]
  },
  {
   "cell_type": "code",
   "execution_count": null,
   "id": "a9773ee3",
   "metadata": {},
   "outputs": [],
   "source": []
  }
 ],
 "metadata": {
  "kernelspec": {
   "display_name": "Python 3",
   "language": "python",
   "name": "python3"
  },
  "language_info": {
   "codemirror_mode": {
    "name": "ipython",
    "version": 3
   },
   "file_extension": ".py",
   "mimetype": "text/x-python",
   "name": "python",
   "nbconvert_exporter": "python",
   "pygments_lexer": "ipython3",
   "version": "3.8.8"
  }
 },
 "nbformat": 4,
 "nbformat_minor": 5
}
