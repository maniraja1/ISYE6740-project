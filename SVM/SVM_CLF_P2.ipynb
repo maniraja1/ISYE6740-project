{
 "cells": [
  {
   "cell_type": "code",
   "execution_count": 45,
   "id": "e1b72b8d",
   "metadata": {},
   "outputs": [],
   "source": [
    "from PIL import Image\n",
    "import glob\n",
    "import numpy as np\n",
    "from sklearn.model_selection import train_test_split\n",
    "import pandas as pd\n",
    "from sklearn.svm import SVC\n",
    "from sklearn import metrics\n",
    "from sklearn.linear_model import LogisticRegression\n",
    "from sklearn.model_selection import GridSearchCV"
   ]
  },
  {
   "cell_type": "code",
   "execution_count": 46,
   "id": "93e9ce2c",
   "metadata": {},
   "outputs": [],
   "source": [
    "labels = pd.read_csv(\"Xray_TeethLabels_Simple.csv\",index_col=0)\n",
    "Ylabels = labels[5:]\n",
    "metaY = labels[:3]\n",
    "X = pd.DataFrame()\n",
    "Y = []\n",
    "for picFilename in glob.glob(\"processed2/processed/*\"):\n",
    "    #print(picFilename)\n",
    "    patNumber = picFilename.split('/')[2].split('_')[0]\n",
    "    toothNumber = picFilename.split('/')[2].split('_')[1].split('.')[0]\n",
    "    im = Image.open(picFilename)\n",
    "    X[patNumber + '_' + toothNumber] = np.array(im).flatten()\n",
    "    Y.append(Ylabels.loc[toothNumber,patNumber])\n",
    "\n",
    "X_train, X_test, y_train, y_test = train_test_split(X.T.to_numpy(), np.array(Y), test_size=0.20, random_state=100)"
   ]
  },
  {
   "cell_type": "code",
   "execution_count": 47,
   "id": "180f0b96",
   "metadata": {},
   "outputs": [
    {
     "name": "stdout",
     "output_type": "stream",
     "text": [
      "The best value for C is: {'C': 1, 'kernel': 'rbf'}\n"
     ]
    }
   ],
   "source": [
    "np.random.seed(100)\n",
    "def svc_param_selection(X, y, nfolds):\n",
    "    C = [0.1, 1, 10, 100, 1000] #try different values for C\n",
    "    kernel = ['linear', 'rbf']\n",
    "    param_grid = {'C': C, 'kernel': kernel}\n",
    "    grid_search = GridSearchCV(SVC(), param_grid, cv=nfolds)\n",
    "    grid_search.fit(X, y)\n",
    "    grid_search.best_params_\n",
    "    return grid_search.best_params_\n",
    "best_c = svc_param_selection(X.T.to_numpy(), np.array(Y), 2)\n",
    "print (\"The best value for C is:\",best_c)"
   ]
  },
  {
   "cell_type": "code",
   "execution_count": 48,
   "id": "5f91b21f",
   "metadata": {},
   "outputs": [
    {
     "name": "stdout",
     "output_type": "stream",
     "text": [
      "SVC(C=1)\n",
      "              precision    recall  f1-score   support\n",
      "\n",
      "          No       0.59      0.87      0.70        23\n",
      "         Yes       0.73      0.36      0.48        22\n",
      "\n",
      "    accuracy                           0.62        45\n",
      "   macro avg       0.66      0.62      0.59        45\n",
      "weighted avg       0.66      0.62      0.60        45\n",
      "\n",
      "[[20  3]\n",
      " [14  8]]\n"
     ]
    }
   ],
   "source": [
    "model = SVC(C=best_c['C'], kernel=best_c['kernel'])\n",
    "model.fit(X_train, y_train)\n",
    "print(model)\n",
    "# make predictions\n",
    "expected = y_test\n",
    "predicted = model.predict(X_test)\n",
    "# summarize the fit of the model\n",
    "print(metrics.classification_report(expected, predicted))\n",
    "print(metrics.confusion_matrix(expected, predicted))"
   ]
  },
  {
   "cell_type": "code",
   "execution_count": 49,
   "id": "1a75015b",
   "metadata": {},
   "outputs": [
    {
     "name": "stdout",
     "output_type": "stream",
     "text": [
      "20\n",
      "8\n",
      "3\n",
      "14\n",
      "sensitivity: 0.36363636363636365\n",
      "Specificity: 0.8695652173913043\n",
      "FPR: 0.13043478260869565\n",
      " FNR: 0.6363636363636364\n",
      "Accuracy: 0.6222222222222222\n",
      "precision: 0.7272727272727273\n",
      "Recall: 0.36363636363636365\n",
      "F1 score: 0.4848484848484849\n"
     ]
    }
   ],
   "source": [
    "tn, fp, fn, tp = metrics.confusion_matrix(y_test, predicted).ravel()\n",
    "print(tn)\n",
    "print(tp)\n",
    "print(fp)\n",
    "print(fn)\n",
    "print(f\"sensitivity: {tp/(tp+fn)}\")\n",
    "print(f\"Specificity: {tn/(tn+fp)}\")\n",
    "print(f\"FPR: {fp/(fp+tn)}\")\n",
    "print(f\" FNR: {fn/(fn+tp)}\")\n",
    "print(f\"Accuracy: {(tp+tn)/(tp+tn+fp+fn)}\")\n",
    "precision = tp/(tp+fp)\n",
    "recall = tp/(tp+fn)\n",
    "print(f\"precision: {precision}\")\n",
    "print(f\"Recall: {recall}\")\n",
    "print(f\"F1 score: {(2*precision*recall)/(precision+recall)}\")"
   ]
  },
  {
   "cell_type": "code",
   "execution_count": null,
   "id": "37792fec",
   "metadata": {},
   "outputs": [],
   "source": []
  }
 ],
 "metadata": {
  "kernelspec": {
   "display_name": "Python 3",
   "language": "python",
   "name": "python3"
  },
  "language_info": {
   "codemirror_mode": {
    "name": "ipython",
    "version": 3
   },
   "file_extension": ".py",
   "mimetype": "text/x-python",
   "name": "python",
   "nbconvert_exporter": "python",
   "pygments_lexer": "ipython3",
   "version": "3.6.13"
  }
 },
 "nbformat": 4,
 "nbformat_minor": 5
}
