{
 "cells": [
  {
   "cell_type": "code",
   "execution_count": 1,
   "id": "e1b72b8d",
   "metadata": {},
   "outputs": [],
   "source": [
    "from PIL import Image\n",
    "import glob\n",
    "import numpy as np\n",
    "from sklearn.model_selection import train_test_split\n",
    "import pandas as pd\n",
    "from sklearn.svm import SVC\n",
    "from sklearn import metrics\n",
    "from sklearn.linear_model import LogisticRegression"
   ]
  },
  {
   "cell_type": "code",
   "execution_count": 3,
   "id": "93e9ce2c",
   "metadata": {},
   "outputs": [],
   "source": [
    "labels = pd.read_csv(\"Xray_TeethLabels_Simple.csv\",index_col=0)\n",
    "Ylabels = labels[5:]\n",
    "metaY = labels[:3]\n",
    "X = pd.DataFrame()\n",
    "Y = []\n",
    "for picFilename in glob.glob(\"Processing2/processed/*\"):\n",
    "    #print(picFilename)\n",
    "    patNumber = picFilename.split('/')[2].split('_')[0]\n",
    "    toothNumber = picFilename.split('/')[2].split('_')[1].split('.')[0]\n",
    "    im = Image.open(picFilename)\n",
    "    X[patNumber + '_' + toothNumber] = np.array(im).flatten()\n",
    "    Y.append(Ylabels.loc[toothNumber,patNumber])\n",
    "\n",
    "X_train, X_test, y_train, y_test = train_test_split(X.T.to_numpy(), np.array(Y), test_size=0.20)"
   ]
  },
  {
   "cell_type": "code",
   "execution_count": 5,
   "id": "5f91b21f",
   "metadata": {},
   "outputs": [
    {
     "name": "stdout",
     "output_type": "stream",
     "text": [
      "SVC(C=10)\n",
      "              precision    recall  f1-score   support\n",
      "\n",
      "          No       0.66      0.81      0.72        26\n",
      "         Yes       0.62      0.42      0.50        19\n",
      "\n",
      "    accuracy                           0.64        45\n",
      "   macro avg       0.64      0.61      0.61        45\n",
      "weighted avg       0.64      0.64      0.63        45\n",
      "\n",
      "[[21  5]\n",
      " [11  8]]\n"
     ]
    }
   ],
   "source": [
    "model = SVC(C=10, kernel='rbf')\n",
    "model.fit(X_train, y_train)\n",
    "print(model)\n",
    "# make predictions\n",
    "expected = y_test\n",
    "predicted = model.predict(X_test)\n",
    "# summarize the fit of the model\n",
    "print(metrics.classification_report(expected, predicted))\n",
    "print(metrics.confusion_matrix(expected, predicted))"
   ]
  },
  {
   "cell_type": "code",
   "execution_count": 6,
   "id": "a3d974f8",
   "metadata": {},
   "outputs": [
    {
     "name": "stdout",
     "output_type": "stream",
     "text": [
      "SVC(C=10, kernel='linear')\n",
      "              precision    recall  f1-score   support\n",
      "\n",
      "          No       0.65      0.58      0.61        26\n",
      "         Yes       0.50      0.58      0.54        19\n",
      "\n",
      "    accuracy                           0.58        45\n",
      "   macro avg       0.58      0.58      0.57        45\n",
      "weighted avg       0.59      0.58      0.58        45\n",
      "\n",
      "[[15 11]\n",
      " [ 8 11]]\n"
     ]
    }
   ],
   "source": [
    "model = SVC(C=10, kernel='linear')\n",
    "model.fit(X_train, y_train)\n",
    "print(model)\n",
    "# make predictions\n",
    "expected = y_test\n",
    "predicted = model.predict(X_test)\n",
    "# summarize the fit of the model\n",
    "print(metrics.classification_report(expected, predicted))\n",
    "print(metrics.confusion_matrix(expected, predicted))"
   ]
  },
  {
   "cell_type": "code",
   "execution_count": null,
   "id": "37792fec",
   "metadata": {},
   "outputs": [],
   "source": []
  }
 ],
 "metadata": {
  "kernelspec": {
   "display_name": "Python 3",
   "language": "python",
   "name": "python3"
  },
  "language_info": {
   "codemirror_mode": {
    "name": "ipython",
    "version": 3
   },
   "file_extension": ".py",
   "mimetype": "text/x-python",
   "name": "python",
   "nbconvert_exporter": "python",
   "pygments_lexer": "ipython3",
   "version": "3.6.13"
  }
 },
 "nbformat": 4,
 "nbformat_minor": 5
}
